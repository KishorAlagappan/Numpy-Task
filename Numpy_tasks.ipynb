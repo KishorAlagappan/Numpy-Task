{
  "cells": [
    {
      "cell_type": "markdown",
      "metadata": {
        "id": "view-in-github",
        "colab_type": "text"
      },
      "source": [
        "<a href=\"https://colab.research.google.com/github/KishorAlagappan/Numpy-Task-/blob/main/Numpy_tasks.ipynb\" target=\"_parent\"><img src=\"https://colab.research.google.com/assets/colab-badge.svg\" alt=\"Open In Colab\"/></a>"
      ]
    },
    {
      "cell_type": "markdown",
      "metadata": {
        "id": "0Dez5N_sndNI"
      },
      "source": [
        "# Numpy\n",
        "\n"
      ]
    },
    {
      "cell_type": "markdown",
      "metadata": {
        "id": "rZzJbv__ndNS"
      },
      "source": [
        "#### 1. Import the numpy package under the name `np` (★☆☆) \n",
        "(**hint**: import … as …)"
      ]
    },
    {
      "cell_type": "code",
      "execution_count": null,
      "metadata": {
        "collapsed": true,
        "id": "76tocU_sndNU"
      },
      "outputs": [],
      "source": [
        "import numpy as np"
      ]
    },
    {
      "cell_type": "markdown",
      "metadata": {
        "id": "bitFQrkjndNW"
      },
      "source": [
        "#### 2. Print the numpy version and the configuration (★☆☆) \n",
        "(**hint**: np.\\_\\_version\\_\\_, np.show\\_config)"
      ]
    },
    {
      "cell_type": "code",
      "execution_count": null,
      "metadata": {
        "id": "nu-TB-NyndNX",
        "colab": {
          "base_uri": "https://localhost:8080/",
          "height": 36
        },
        "outputId": "d67fcf06-60cb-4230-f572-07779976e3c2"
      },
      "outputs": [
        {
          "output_type": "execute_result",
          "data": {
            "text/plain": [
              "'1.21.6'"
            ],
            "application/vnd.google.colaboratory.intrinsic+json": {
              "type": "string"
            }
          },
          "metadata": {},
          "execution_count": 2
        }
      ],
      "source": [
        "np.__version__"
      ]
    },
    {
      "cell_type": "code",
      "source": [
        "np.show_config()"
      ],
      "metadata": {
        "colab": {
          "base_uri": "https://localhost:8080/"
        },
        "id": "w3oz-EkDsNJa",
        "outputId": "b124d138-39d5-4330-d91d-ee8000a3b47d"
      },
      "execution_count": null,
      "outputs": [
        {
          "output_type": "stream",
          "name": "stdout",
          "text": [
            "blas_mkl_info:\n",
            "  NOT AVAILABLE\n",
            "blis_info:\n",
            "  NOT AVAILABLE\n",
            "openblas_info:\n",
            "    libraries = ['openblas', 'openblas']\n",
            "    library_dirs = ['/usr/local/lib']\n",
            "    language = c\n",
            "    define_macros = [('HAVE_CBLAS', None)]\n",
            "    runtime_library_dirs = ['/usr/local/lib']\n",
            "blas_opt_info:\n",
            "    libraries = ['openblas', 'openblas']\n",
            "    library_dirs = ['/usr/local/lib']\n",
            "    language = c\n",
            "    define_macros = [('HAVE_CBLAS', None)]\n",
            "    runtime_library_dirs = ['/usr/local/lib']\n",
            "lapack_mkl_info:\n",
            "  NOT AVAILABLE\n",
            "openblas_lapack_info:\n",
            "    libraries = ['openblas', 'openblas']\n",
            "    library_dirs = ['/usr/local/lib']\n",
            "    language = c\n",
            "    define_macros = [('HAVE_CBLAS', None)]\n",
            "    runtime_library_dirs = ['/usr/local/lib']\n",
            "lapack_opt_info:\n",
            "    libraries = ['openblas', 'openblas']\n",
            "    library_dirs = ['/usr/local/lib']\n",
            "    language = c\n",
            "    define_macros = [('HAVE_CBLAS', None)]\n",
            "    runtime_library_dirs = ['/usr/local/lib']\n",
            "Supported SIMD extensions in this NumPy install:\n",
            "    baseline = SSE,SSE2,SSE3\n",
            "    found = SSSE3,SSE41,POPCNT,SSE42,AVX,F16C,FMA3,AVX2\n",
            "    not found = AVX512F,AVX512CD,AVX512_KNL,AVX512_KNM,AVX512_SKX,AVX512_CLX,AVX512_CNL,AVX512_ICL\n"
          ]
        }
      ]
    },
    {
      "cell_type": "markdown",
      "metadata": {
        "id": "Mjlxmu1IndNY"
      },
      "source": [
        "#### 3. Create a null vector of size 10 (★☆☆) \n",
        "(**hint**: np.zeros)"
      ]
    },
    {
      "cell_type": "code",
      "execution_count": null,
      "metadata": {
        "id": "Q0nfa6j3ndNZ",
        "colab": {
          "base_uri": "https://localhost:8080/"
        },
        "outputId": "8c815490-df1e-4fb9-e90f-3ee41ac433d0"
      },
      "outputs": [
        {
          "output_type": "execute_result",
          "data": {
            "text/plain": [
              "array([0., 0., 0., 0., 0., 0., 0., 0., 0., 0.])"
            ]
          },
          "metadata": {},
          "execution_count": 4
        }
      ],
      "source": [
        "np.zeros(10)"
      ]
    },
    {
      "cell_type": "markdown",
      "metadata": {
        "id": "NQcog_9qndNa"
      },
      "source": [
        "#### 4.  How to find the memory size of any array (★☆☆) \n",
        "(**hint**: size, itemsize)"
      ]
    },
    {
      "cell_type": "code",
      "execution_count": null,
      "metadata": {
        "id": "EPdfwSdEndNb",
        "colab": {
          "base_uri": "https://localhost:8080/"
        },
        "outputId": "1c9ace9f-11d0-4f50-ebf6-25a26ee1e938"
      },
      "outputs": [
        {
          "output_type": "execute_result",
          "data": {
            "text/plain": [
              "40"
            ]
          },
          "metadata": {},
          "execution_count": 5
        }
      ],
      "source": [
        "x = np.array([10,20,30,40,50])\n",
        "(x.size * x.itemsize)"
      ]
    },
    {
      "cell_type": "markdown",
      "metadata": {
        "id": "eM6j7fvTndNb"
      },
      "source": [
        "#### 5.  How to get the documentation of the numpy add function from the command line? (★☆☆) \n",
        "(**hint**: np.info)"
      ]
    },
    {
      "cell_type": "code",
      "execution_count": null,
      "metadata": {
        "collapsed": true,
        "id": "w1eiV_Y3ndNc",
        "colab": {
          "base_uri": "https://localhost:8080/"
        },
        "outputId": "2643a98f-5b0c-4e6e-fff0-c70d4567b0b4"
      },
      "outputs": [
        {
          "output_type": "stream",
          "name": "stdout",
          "text": [
            "add(x1, x2, /, out=None, *, where=True, casting='same_kind', order='K', dtype=None, subok=True[, signature, extobj])\n",
            "\n",
            "Add arguments element-wise.\n",
            "\n",
            "Parameters\n",
            "----------\n",
            "x1, x2 : array_like\n",
            "    The arrays to be added.\n",
            "    If ``x1.shape != x2.shape``, they must be broadcastable to a common\n",
            "    shape (which becomes the shape of the output).\n",
            "out : ndarray, None, or tuple of ndarray and None, optional\n",
            "    A location into which the result is stored. If provided, it must have\n",
            "    a shape that the inputs broadcast to. If not provided or None,\n",
            "    a freshly-allocated array is returned. A tuple (possible only as a\n",
            "    keyword argument) must have length equal to the number of outputs.\n",
            "where : array_like, optional\n",
            "    This condition is broadcast over the input. At locations where the\n",
            "    condition is True, the `out` array will be set to the ufunc result.\n",
            "    Elsewhere, the `out` array will retain its original value.\n",
            "    Note that if an uninitialized `out` array is created via the default\n",
            "    ``out=None``, locations within it where the condition is False will\n",
            "    remain uninitialized.\n",
            "**kwargs\n",
            "    For other keyword-only arguments, see the\n",
            "    :ref:`ufunc docs <ufuncs.kwargs>`.\n",
            "\n",
            "Returns\n",
            "-------\n",
            "add : ndarray or scalar\n",
            "    The sum of `x1` and `x2`, element-wise.\n",
            "    This is a scalar if both `x1` and `x2` are scalars.\n",
            "\n",
            "Notes\n",
            "-----\n",
            "Equivalent to `x1` + `x2` in terms of array broadcasting.\n",
            "\n",
            "Examples\n",
            "--------\n",
            ">>> np.add(1.0, 4.0)\n",
            "5.0\n",
            ">>> x1 = np.arange(9.0).reshape((3, 3))\n",
            ">>> x2 = np.arange(3.0)\n",
            ">>> np.add(x1, x2)\n",
            "array([[  0.,   2.,   4.],\n",
            "       [  3.,   5.,   7.],\n",
            "       [  6.,   8.,  10.]])\n",
            "\n",
            "The ``+`` operator can be used as a shorthand for ``np.add`` on ndarrays.\n",
            "\n",
            ">>> x1 = np.arange(9.0).reshape((3, 3))\n",
            ">>> x2 = np.arange(3.0)\n",
            ">>> x1 + x2\n",
            "array([[ 0.,  2.,  4.],\n",
            "       [ 3.,  5.,  7.],\n",
            "       [ 6.,  8., 10.]])\n"
          ]
        }
      ],
      "source": [
        "np.info(np.add)"
      ]
    },
    {
      "cell_type": "markdown",
      "metadata": {
        "id": "OOiMIZStndNd"
      },
      "source": [
        "#### 6.  Create a null vector of size 10 but the fifth value which is 1 (★☆☆) \n",
        "(**hint**: array\\[4\\])"
      ]
    },
    {
      "cell_type": "code",
      "execution_count": null,
      "metadata": {
        "id": "PWARuByNndNd",
        "colab": {
          "base_uri": "https://localhost:8080/"
        },
        "outputId": "4b19c8db-c622-449a-db24-979f157d3805"
      },
      "outputs": [
        {
          "output_type": "execute_result",
          "data": {
            "text/plain": [
              "array([0., 0., 0., 0., 1., 0., 0., 0., 0., 0.])"
            ]
          },
          "metadata": {},
          "execution_count": 7
        }
      ],
      "source": [
        "x = np.zeros(10)\n",
        "x[4] = 1 \n",
        "x"
      ]
    },
    {
      "cell_type": "markdown",
      "metadata": {
        "id": "GXmqop2PndNe"
      },
      "source": [
        "#### 7.  Create a vector with values ranging from 10 to 49 (★☆☆) \n",
        "(**hint**: np.arange)"
      ]
    },
    {
      "cell_type": "code",
      "execution_count": null,
      "metadata": {
        "id": "mMs-iTvundNe",
        "colab": {
          "base_uri": "https://localhost:8080/"
        },
        "outputId": "d3a7c549-b8bc-48da-efae-7d343fa1fc83"
      },
      "outputs": [
        {
          "output_type": "execute_result",
          "data": {
            "text/plain": [
              "array([10, 11, 12, 13, 14, 15, 16, 17, 18, 19, 20, 21, 22, 23, 24, 25, 26,\n",
              "       27, 28, 29, 30, 31, 32, 33, 34, 35, 36, 37, 38, 39, 40, 41, 42, 43,\n",
              "       44, 45, 46, 47, 48, 49])"
            ]
          },
          "metadata": {},
          "execution_count": 8
        }
      ],
      "source": [
        "np.arange(10,50)\n"
      ]
    },
    {
      "cell_type": "markdown",
      "metadata": {
        "id": "q-h0kArGndNf"
      },
      "source": [
        "#### 8.  Reverse a vector (first element becomes last) (★☆☆) \n",
        "(**hint**: array\\[::-1\\])"
      ]
    },
    {
      "cell_type": "code",
      "execution_count": null,
      "metadata": {
        "id": "6gZBsYszndNf",
        "colab": {
          "base_uri": "https://localhost:8080/"
        },
        "outputId": "9bc8af82-9730-4a98-a464-64e8d475ab82"
      },
      "outputs": [
        {
          "output_type": "execute_result",
          "data": {
            "text/plain": [
              "array([49, 48, 47, 46, 45, 44, 43, 42, 41, 40, 39, 38, 37, 36, 35, 34, 33,\n",
              "       32, 31, 30, 29, 28, 27, 26, 25, 24, 23, 22, 21, 20, 19, 18, 17, 16,\n",
              "       15, 14, 13, 12, 11, 10])"
            ]
          },
          "metadata": {},
          "execution_count": 9
        }
      ],
      "source": [
        "np.arange(10,50)[::-1]"
      ]
    },
    {
      "cell_type": "markdown",
      "metadata": {
        "id": "ZA9PAdNsndNg"
      },
      "source": [
        "#### 9.  Create a 3x3 matrix with values ranging from 0 to 8 (★☆☆) \n",
        "(**hint**: reshape)"
      ]
    },
    {
      "cell_type": "code",
      "execution_count": null,
      "metadata": {
        "id": "lZDNlPz3ndNg",
        "colab": {
          "base_uri": "https://localhost:8080/"
        },
        "outputId": "9e17c6dc-4987-4968-91fb-c7bb8334c47a"
      },
      "outputs": [
        {
          "output_type": "execute_result",
          "data": {
            "text/plain": [
              "array([[0, 1, 2],\n",
              "       [3, 4, 5],\n",
              "       [6, 7, 8]])"
            ]
          },
          "metadata": {},
          "execution_count": 10
        }
      ],
      "source": [
        "np.arange(0,9).reshape(3,3)"
      ]
    },
    {
      "cell_type": "markdown",
      "metadata": {
        "id": "iBE8kJFjndNh"
      },
      "source": [
        "#### 10. Find indices of non-zero elements from \\[1,2,0,0,4,0\\] (★☆☆) \n",
        "(**hint**: np.nonzero)"
      ]
    },
    {
      "cell_type": "code",
      "execution_count": null,
      "metadata": {
        "id": "moLMwNKCndNi",
        "colab": {
          "base_uri": "https://localhost:8080/"
        },
        "outputId": "d24f3865-16f4-418b-e844-82c79fff74c5"
      },
      "outputs": [
        {
          "output_type": "execute_result",
          "data": {
            "text/plain": [
              "(array([0, 1, 4]),)"
            ]
          },
          "metadata": {},
          "execution_count": 11
        }
      ],
      "source": [
        "np.nonzero([1,2,0,0,4,0])"
      ]
    },
    {
      "cell_type": "markdown",
      "metadata": {
        "id": "X0M6nXI6ndNi"
      },
      "source": [
        "#### 11. Create a 3x3 identity matrix (★☆☆) \n",
        "(**hint**: np.eye)"
      ]
    },
    {
      "cell_type": "code",
      "execution_count": null,
      "metadata": {
        "id": "ILARc_A3ndNj",
        "colab": {
          "base_uri": "https://localhost:8080/"
        },
        "outputId": "02a93ee0-a155-437a-f9a5-5127425991fe"
      },
      "outputs": [
        {
          "output_type": "execute_result",
          "data": {
            "text/plain": [
              "array([[1., 0., 0.],\n",
              "       [0., 1., 0.],\n",
              "       [0., 0., 1.]])"
            ]
          },
          "metadata": {},
          "execution_count": 12
        }
      ],
      "source": [
        "np.eye(3)"
      ]
    },
    {
      "cell_type": "markdown",
      "metadata": {
        "id": "Rk1jS4sondNj"
      },
      "source": [
        "#### 12. Create a 3x3x3 array with random values (★☆☆) \n",
        "(**hint**: np.random.random)"
      ]
    },
    {
      "cell_type": "code",
      "execution_count": null,
      "metadata": {
        "id": "GYhsuuT6ndNk",
        "colab": {
          "base_uri": "https://localhost:8080/"
        },
        "outputId": "a94375ab-b673-4133-f359-8affdcd50e9a"
      },
      "outputs": [
        {
          "output_type": "execute_result",
          "data": {
            "text/plain": [
              "array([[[0.88197066, 0.92753622, 0.45303775],\n",
              "        [0.14692609, 0.65792289, 0.8849916 ],\n",
              "        [0.90249549, 0.37885545, 0.73942734]],\n",
              "\n",
              "       [[0.51938879, 0.40279812, 0.52973189],\n",
              "        [0.59087486, 0.1917851 , 0.70692931],\n",
              "        [0.63638354, 0.28726895, 0.68049014]],\n",
              "\n",
              "       [[0.7542541 , 0.29296371, 0.33680035],\n",
              "        [0.10423315, 0.98652537, 0.97531413],\n",
              "        [0.83682394, 0.22473765, 0.35118902]]])"
            ]
          },
          "metadata": {},
          "execution_count": 13
        }
      ],
      "source": [
        "np.random.random((3,3,3))"
      ]
    },
    {
      "cell_type": "markdown",
      "metadata": {
        "id": "OMZGKboIndNk"
      },
      "source": [
        "#### 13. Create a 10x10 array with random values and find the minimum and maximum values (★☆☆) \n",
        "(**hint**: min, max)"
      ]
    },
    {
      "cell_type": "code",
      "execution_count": null,
      "metadata": {
        "id": "I7PgU2SBndNk",
        "colab": {
          "base_uri": "https://localhost:8080/"
        },
        "outputId": "3cf10309-5e81-422d-a9e0-5dc3907e212a"
      },
      "outputs": [
        {
          "output_type": "execute_result",
          "data": {
            "text/plain": [
              "0.002958824199192134"
            ]
          },
          "metadata": {},
          "execution_count": 14
        }
      ],
      "source": [
        "np.random.random((10,10)).min()"
      ]
    },
    {
      "cell_type": "code",
      "source": [
        "np.random.random((10,10)).max()"
      ],
      "metadata": {
        "colab": {
          "base_uri": "https://localhost:8080/"
        },
        "id": "N2VsJu6u1ZC1",
        "outputId": "1f6dca40-5b97-4e70-ee98-2be337802126"
      },
      "execution_count": null,
      "outputs": [
        {
          "output_type": "execute_result",
          "data": {
            "text/plain": [
              "0.9943469539089747"
            ]
          },
          "metadata": {},
          "execution_count": 15
        }
      ]
    },
    {
      "cell_type": "markdown",
      "metadata": {
        "id": "TyUUz6a9ndNk"
      },
      "source": [
        "#### 14. Create a random vector of size 30 and find the mean value (★☆☆) \n",
        "(**hint**: mean)"
      ]
    },
    {
      "cell_type": "code",
      "execution_count": null,
      "metadata": {
        "id": "eIkKyEl3ndNl",
        "colab": {
          "base_uri": "https://localhost:8080/"
        },
        "outputId": "d1d81bf1-df0c-47aa-a7d7-96d0486449e8"
      },
      "outputs": [
        {
          "output_type": "execute_result",
          "data": {
            "text/plain": [
              "0.4940716853094817"
            ]
          },
          "metadata": {},
          "execution_count": 16
        }
      ],
      "source": [
        "np.random.random(10).mean()"
      ]
    },
    {
      "cell_type": "markdown",
      "metadata": {
        "id": "yyhkJp49ndNl"
      },
      "source": [
        "#### 15. Create a 2d array with 1 on the border and 0 inside (★☆☆) \n",
        "(**hint**: array\\[1:-1, 1:-1\\])"
      ]
    },
    {
      "cell_type": "code",
      "execution_count": null,
      "metadata": {
        "id": "bwCXXst_ndNl",
        "colab": {
          "base_uri": "https://localhost:8080/"
        },
        "outputId": "557262ec-c044-4bad-9a45-22e889f2b15f"
      },
      "outputs": [
        {
          "output_type": "execute_result",
          "data": {
            "text/plain": [
              "array([[1., 1., 1., 1., 1., 1., 1., 1., 1., 1.],\n",
              "       [1., 0., 0., 0., 0., 0., 0., 0., 0., 1.],\n",
              "       [1., 0., 0., 0., 0., 0., 0., 0., 0., 1.],\n",
              "       [1., 0., 0., 0., 0., 0., 0., 0., 0., 1.],\n",
              "       [1., 0., 0., 0., 0., 0., 0., 0., 0., 1.],\n",
              "       [1., 0., 0., 0., 0., 0., 0., 0., 0., 1.],\n",
              "       [1., 0., 0., 0., 0., 0., 0., 0., 0., 1.],\n",
              "       [1., 0., 0., 0., 0., 0., 0., 0., 0., 1.],\n",
              "       [1., 0., 0., 0., 0., 0., 0., 0., 0., 1.],\n",
              "       [1., 1., 1., 1., 1., 1., 1., 1., 1., 1.]])"
            ]
          },
          "metadata": {},
          "execution_count": 17
        }
      ],
      "source": [
        "x = np.ones((10,10))\n",
        "x[1:-1,1:-1] = 0\n",
        "x"
      ]
    },
    {
      "cell_type": "markdown",
      "metadata": {
        "id": "fFFtJpbandNl"
      },
      "source": [
        "#### 16. How to add a border (filled with 0's) around an existing array? (★☆☆) \n",
        "(**hint**: np.pad)"
      ]
    },
    {
      "cell_type": "code",
      "execution_count": null,
      "metadata": {
        "id": "w_w93Yl8ndNm",
        "colab": {
          "base_uri": "https://localhost:8080/"
        },
        "outputId": "77cacecd-2f6b-41bb-c346-2d99ecbd0ccc"
      },
      "outputs": [
        {
          "output_type": "execute_result",
          "data": {
            "text/plain": [
              "array([[0., 0., 0., 0., 0.],\n",
              "       [0., 1., 1., 1., 0.],\n",
              "       [0., 1., 1., 1., 0.],\n",
              "       [0., 1., 1., 1., 0.],\n",
              "       [0., 0., 0., 0., 0.]])"
            ]
          },
          "metadata": {},
          "execution_count": 19
        }
      ],
      "source": [
        "x = np.ones((3,3))\n",
        "np.pad(x, pad_width = 1, mode = 'constant', constant_values = 0)\n"
      ]
    },
    {
      "cell_type": "markdown",
      "metadata": {
        "id": "WFr05Z4bndNm"
      },
      "source": [
        "#### 17. What is the result of the following expression? (★☆☆) \n",
        "(**hint**: NaN = not a number, inf = infinity)"
      ]
    },
    {
      "cell_type": "markdown",
      "metadata": {
        "id": "soWPa-YEndNm"
      },
      "source": [
        "```python\n",
        "0 * np.nan\n",
        "np.nan == np.nan\n",
        "np.inf > np.nan\n",
        "np.nan - np.nan\n",
        "0.3 == 3 * 0.1\n",
        "```"
      ]
    },
    {
      "cell_type": "code",
      "execution_count": null,
      "metadata": {
        "id": "0tk86DoOndNn",
        "colab": {
          "base_uri": "https://localhost:8080/"
        },
        "outputId": "f70a9743-a841-43d9-f377-00d1d7823b93"
      },
      "outputs": [
        {
          "output_type": "execute_result",
          "data": {
            "text/plain": [
              "False"
            ]
          },
          "metadata": {},
          "execution_count": 20
        }
      ],
      "source": [
        "False"
      ]
    },
    {
      "cell_type": "markdown",
      "metadata": {
        "id": "zvdGLLJtndNn"
      },
      "source": [
        "#### 18. Create a 5x5 matrix with values 1,2,3,4 just below the diagonal (★☆☆) \n",
        "(**hint**: np.diag)"
      ]
    },
    {
      "cell_type": "code",
      "execution_count": null,
      "metadata": {
        "id": "_EsWLvp6ndNo",
        "colab": {
          "base_uri": "https://localhost:8080/"
        },
        "outputId": "adfa225f-6089-4d8f-c006-bffec815f2a5"
      },
      "outputs": [
        {
          "output_type": "execute_result",
          "data": {
            "text/plain": [
              "array([[0, 0, 0, 0, 0],\n",
              "       [0, 1, 0, 0, 0],\n",
              "       [0, 0, 2, 0, 0],\n",
              "       [0, 0, 0, 3, 0],\n",
              "       [0, 0, 0, 0, 4]])"
            ]
          },
          "metadata": {},
          "execution_count": 21
        }
      ],
      "source": [
        "np.diag([0,1,2,3,4])"
      ]
    },
    {
      "cell_type": "markdown",
      "metadata": {
        "id": "uDgaU7kindNo"
      },
      "source": [
        "#### 19. Create a 8x8 matrix and fill it with a checkerboard pattern (★☆☆) \n",
        "(**hint**: array\\[::2\\])"
      ]
    },
    {
      "cell_type": "code",
      "execution_count": null,
      "metadata": {
        "id": "WvnCuAS_ndNp",
        "colab": {
          "base_uri": "https://localhost:8080/"
        },
        "outputId": "1067c540-a6cd-4945-a1dd-6f071aba6f5d"
      },
      "outputs": [
        {
          "output_type": "execute_result",
          "data": {
            "text/plain": [
              "array([[0, 1, 0, 1, 0, 1, 0, 1],\n",
              "       [1, 0, 1, 0, 1, 0, 1, 0],\n",
              "       [0, 1, 0, 1, 0, 1, 0, 1],\n",
              "       [1, 0, 1, 0, 1, 0, 1, 0],\n",
              "       [0, 1, 0, 1, 0, 1, 0, 1],\n",
              "       [1, 0, 1, 0, 1, 0, 1, 0],\n",
              "       [0, 1, 0, 1, 0, 1, 0, 1],\n",
              "       [1, 0, 1, 0, 1, 0, 1, 0]])"
            ]
          },
          "metadata": {},
          "execution_count": 22
        }
      ],
      "source": [
        "x = np.zeros((8,8),dtype = int)\n",
        "x[1::2,::2] = 1\n",
        "x[::2,1::2] = 1\n",
        "x"
      ]
    },
    {
      "cell_type": "markdown",
      "metadata": {
        "id": "PXNGnJ2kndNp"
      },
      "source": [
        "#### 20. Consider a (6,7,8) shape array, what is the index (x,y,z) of the 100th element? \n",
        "(**hint**: np.unravel_index)"
      ]
    },
    {
      "cell_type": "code",
      "execution_count": null,
      "metadata": {
        "id": "7idO86jqndNq",
        "colab": {
          "base_uri": "https://localhost:8080/"
        },
        "outputId": "34cadf98-aa0d-4a3a-fbf5-ac7196e27b97"
      },
      "outputs": [
        {
          "output_type": "execute_result",
          "data": {
            "text/plain": [
              "(1, 5, 4)"
            ]
          },
          "metadata": {},
          "execution_count": 23
        }
      ],
      "source": [
        "np.unravel_index(100,(6,7,8))"
      ]
    },
    {
      "cell_type": "markdown",
      "metadata": {
        "id": "cBzJoNeEndNq"
      },
      "source": [
        "#### 21. Create a checkerboard 8x8 matrix using the tile function (★☆☆) \n",
        "(**hint**: np.tile)"
      ]
    },
    {
      "cell_type": "code",
      "execution_count": null,
      "metadata": {
        "id": "Z3-5O2_mndNq",
        "colab": {
          "base_uri": "https://localhost:8080/"
        },
        "outputId": "7bea6893-5ba4-4242-c84f-43897950bb9c"
      },
      "outputs": [
        {
          "output_type": "execute_result",
          "data": {
            "text/plain": [
              "array([[0, 1, 0, 1, 0, 1, 0, 1],\n",
              "       [1, 0, 1, 0, 1, 0, 1, 0],\n",
              "       [0, 1, 0, 1, 0, 1, 0, 1],\n",
              "       [1, 0, 1, 0, 1, 0, 1, 0],\n",
              "       [0, 1, 0, 1, 0, 1, 0, 1],\n",
              "       [1, 0, 1, 0, 1, 0, 1, 0],\n",
              "       [0, 1, 0, 1, 0, 1, 0, 1],\n",
              "       [1, 0, 1, 0, 1, 0, 1, 0]])"
            ]
          },
          "metadata": {},
          "execution_count": 24
        }
      ],
      "source": [
        "x = np.array([[0,1],[1,0]])\n",
        "y = np.tile(x,(4,4))\n",
        "y"
      ]
    },
    {
      "cell_type": "markdown",
      "metadata": {
        "id": "pTxCiUbhndNr"
      },
      "source": [
        "#### 22. Normalize a 5x5 random matrix (★☆☆) \n",
        "(**hint**: (x - min) / (max - min))"
      ]
    },
    {
      "cell_type": "code",
      "execution_count": null,
      "metadata": {
        "id": "I1LIyleendNr",
        "colab": {
          "base_uri": "https://localhost:8080/"
        },
        "outputId": "b458c5c7-7787-4111-99aa-aa8e436c4378"
      },
      "outputs": [
        {
          "output_type": "execute_result",
          "data": {
            "text/plain": [
              "array([[-0.83717305, -0.05030792, -0.49953126, -0.51195867, -0.59124956],\n",
              "       [-0.16362914, -0.97291859, -1.        , -0.82260529, -0.50311568],\n",
              "       [-0.78617566, -0.86988088, -0.94426915,  0.        , -0.85833821],\n",
              "       [-0.85902749, -0.73980895, -0.39863046, -0.62350111, -0.88061214],\n",
              "       [-0.83788463, -0.99166274, -0.73837237, -0.1483235 , -0.71569421]])"
            ]
          },
          "metadata": {},
          "execution_count": 25
        }
      ],
      "source": [
        "x = np.random.random((5,5))\n",
        "ma, mi = x.max(), x.min()\n",
        "y = (x - ma) / (ma - mi)\n",
        "y"
      ]
    },
    {
      "cell_type": "markdown",
      "metadata": {
        "id": "7juY_DTCndNr"
      },
      "source": [
        "#### 23. Create a custom dtype that describes a color as four unsigned bytes (RGBA) (★☆☆) \n",
        "(**hint**: np.dtype)"
      ]
    },
    {
      "cell_type": "code",
      "execution_count": null,
      "metadata": {
        "collapsed": true,
        "id": "9iQZvpqSndNs",
        "colab": {
          "base_uri": "https://localhost:8080/"
        },
        "outputId": "5798e01f-f7a4-4537-a5e6-60002fcb2616"
      },
      "outputs": [
        {
          "output_type": "stream",
          "name": "stderr",
          "text": [
            "/usr/local/lib/python3.7/dist-packages/ipykernel_launcher.py:4: FutureWarning: Passing (type, 1) or '1type' as a synonym of type is deprecated; in a future version of numpy, it will be understood as (type, (1,)) / '(1,)type'.\n",
            "  after removing the cwd from sys.path.\n"
          ]
        },
        {
          "output_type": "execute_result",
          "data": {
            "text/plain": [
              "dtype([('R', 'u1'), ('G', 'u1'), ('B', 'u1'), ('A', 'u1')])"
            ]
          },
          "metadata": {},
          "execution_count": 26
        }
      ],
      "source": [
        "color = np.dtype([(\"R\", np.ubyte, 1),\n",
        "                  (\"G\", np.ubyte, 1),\n",
        "                  (\"B\", np.ubyte, 1),\n",
        "                  (\"A\", np.ubyte, 1)])\n",
        "color\n"
      ]
    },
    {
      "cell_type": "markdown",
      "metadata": {
        "id": "ucrr-YpJndNs"
      },
      "source": [
        "#### 24. Multiply a 5x3 matrix by a 3x2 matrix (real matrix product) (★☆☆) \n",
        "(**hint**: np.dot | @)"
      ]
    },
    {
      "cell_type": "code",
      "execution_count": null,
      "metadata": {
        "id": "M7pWfg3undNs",
        "colab": {
          "base_uri": "https://localhost:8080/"
        },
        "outputId": "be97265a-60ab-41ce-e669-2addf31c6b67"
      },
      "outputs": [
        {
          "output_type": "execute_result",
          "data": {
            "text/plain": [
              "array([[3, 3],\n",
              "       [3, 3],\n",
              "       [3, 3],\n",
              "       [3, 3],\n",
              "       [3, 3]])"
            ]
          },
          "metadata": {},
          "execution_count": 27
        }
      ],
      "source": [
        "np.dot(np.ones((5,3),dtype =int), np.ones((3,2),dtype =int))\n"
      ]
    },
    {
      "cell_type": "markdown",
      "metadata": {
        "id": "ZbUDWmmundNs"
      },
      "source": [
        "#### 25. Given a 1D array, negate all elements which are between 3 and 8, in place. (★☆☆) \n",
        "(**hint**: >, <=)"
      ]
    },
    {
      "cell_type": "code",
      "execution_count": null,
      "metadata": {
        "id": "hQH60-mNndNs",
        "colab": {
          "base_uri": "https://localhost:8080/"
        },
        "outputId": "da9b0171-34f8-44d7-e44d-5553f19fa4f5"
      },
      "outputs": [
        {
          "output_type": "execute_result",
          "data": {
            "text/plain": [
              "array([ 0,  1,  2,  3, -4, -5, -6, -7, -8,  9, 10])"
            ]
          },
          "metadata": {},
          "execution_count": 28
        }
      ],
      "source": [
        "x = np.arange(11)\n",
        "x[(3 < x) & (x <= 8)] *= -1 \n",
        "x"
      ]
    },
    {
      "cell_type": "markdown",
      "metadata": {
        "id": "D7cIy-zXndNt"
      },
      "source": [
        "#### 26. What is the output of the following script? (★☆☆) \n",
        "(**hint**: np.sum)"
      ]
    },
    {
      "cell_type": "markdown",
      "metadata": {
        "id": "sd_jr_OMndNt"
      },
      "source": [
        "```python\n",
        "# Author: Jake VanderPlas\n",
        "\n",
        "print(sum(range(5),-1))\n",
        "from numpy import *\n",
        "print(sum(range(5),-1))\n",
        "```"
      ]
    },
    {
      "cell_type": "code",
      "execution_count": null,
      "metadata": {
        "id": "aScyZCSAndNt",
        "colab": {
          "base_uri": "https://localhost:8080/"
        },
        "outputId": "0f35d198-3bd5-47ed-e9e6-0b10b111bdae"
      },
      "outputs": [
        {
          "output_type": "execute_result",
          "data": {
            "text/plain": [
              "10"
            ]
          },
          "metadata": {},
          "execution_count": 29
        }
      ],
      "source": [
        "9\n",
        "10"
      ]
    },
    {
      "cell_type": "markdown",
      "metadata": {
        "id": "S12C74SUndNu"
      },
      "source": [
        "#### 27. Consider an integer vector Z, which of these expressions are legal? (★☆☆)"
      ]
    },
    {
      "cell_type": "markdown",
      "metadata": {
        "id": "tBI5zL2FndNu"
      },
      "source": [
        "```python\n",
        "Z**Z\n",
        "2 << Z >> 2\n",
        "Z <- Z\n",
        "1j*Z\n",
        "Z/1/1\n",
        "Z<Z>Z\n",
        "```"
      ]
    },
    {
      "cell_type": "code",
      "execution_count": null,
      "metadata": {
        "id": "azUiXKaRndNu"
      },
      "outputs": [],
      "source": [
        "2 << Z >> 2, Z <- Z, 1j*Z, Z/1/1"
      ]
    },
    {
      "cell_type": "markdown",
      "metadata": {
        "id": "oWrFVepfndNu"
      },
      "source": [
        "#### 28. What are the result of the following expressions?"
      ]
    },
    {
      "cell_type": "markdown",
      "metadata": {
        "id": "wLXbGyecndNv"
      },
      "source": [
        "```python\n",
        "np.array(0) / np.array(0)\n",
        "np.array(0) // np.array(0)\n",
        "np.array([np.nan]).astype(int).astype(float)\n",
        "```"
      ]
    },
    {
      "cell_type": "code",
      "execution_count": null,
      "metadata": {
        "id": "8tEKle-UndNv"
      },
      "outputs": [],
      "source": [
        "nan\n",
        "0\n",
        "[-9.22337204e+18]"
      ]
    },
    {
      "cell_type": "markdown",
      "metadata": {
        "id": "XlQEInOhndNv"
      },
      "source": [
        "#### 29. How to round away from zero a float array ? (★☆☆) \n",
        "(**hint**: np.uniform, np.copysign, np.ceil, np.abs)"
      ]
    },
    {
      "cell_type": "code",
      "execution_count": null,
      "metadata": {
        "id": "O35HSWZ5ndNv",
        "colab": {
          "base_uri": "https://localhost:8080/"
        },
        "outputId": "8214e4b0-b534-48c4-ff0e-5dc4eb406c3c"
      },
      "outputs": [
        {
          "output_type": "stream",
          "name": "stdout",
          "text": [
            "[-1. -7.  1.  8. -4.  1.  6. -3. -7. 10.]\n"
          ]
        }
      ],
      "source": [
        "x = np.random.uniform(-10,+10,10)\n",
        "print(np.copysign(np.ceil(np.abs(x)), x))"
      ]
    },
    {
      "cell_type": "markdown",
      "metadata": {
        "id": "H2YwNq5dndNv"
      },
      "source": [
        "#### 30. How to find common values between two arrays? (★☆☆) \n",
        "(**hint**: np.intersect1d)"
      ]
    },
    {
      "cell_type": "code",
      "execution_count": null,
      "metadata": {
        "id": "WdysWyCQndNw",
        "colab": {
          "base_uri": "https://localhost:8080/"
        },
        "outputId": "3ed6917c-7dc3-40f8-f2fb-2b7200637748"
      },
      "outputs": [
        {
          "output_type": "stream",
          "name": "stdout",
          "text": [
            "[0 1 2 8 9]\n"
          ]
        }
      ],
      "source": [
        "x = np.random.randint(0,10,10) \n",
        "y = np.random.randint(0,10,10)\n",
        "print(np.intersect1d(x,y))"
      ]
    },
    {
      "cell_type": "markdown",
      "metadata": {
        "id": "DWD2XqYSndNw"
      },
      "source": [
        "#### 31. How to ignore all numpy warnings (not recommended)? (★☆☆) \n",
        "(**hint**: np.seterr, np.errstate)"
      ]
    },
    {
      "cell_type": "code",
      "execution_count": null,
      "metadata": {
        "id": "rnTfwgyvndNw"
      },
      "outputs": [],
      "source": [
        "with np.errstate(divide='ignore'):\n",
        "    Z = np.ones(1) / 0\n",
        "    "
      ]
    },
    {
      "cell_type": "markdown",
      "metadata": {
        "id": "7gWCP5UIndNw"
      },
      "source": [
        "#### 32. Is the following expressions true? (★☆☆) \n",
        "(**hint**: imaginary number)"
      ]
    },
    {
      "cell_type": "markdown",
      "metadata": {
        "id": "xBtZpyNEndNx"
      },
      "source": [
        "```python\n",
        "np.sqrt(-1) == np.emath.sqrt(-1)\n",
        "```"
      ]
    },
    {
      "cell_type": "code",
      "execution_count": null,
      "metadata": {
        "id": "ghmSecdkndNx"
      },
      "outputs": [],
      "source": [
        "False"
      ]
    },
    {
      "cell_type": "markdown",
      "metadata": {
        "id": "tCMbtTJIndNy"
      },
      "source": [
        "#### 33. How to get the dates of yesterday, today and tomorrow? (★☆☆) \n",
        "(**hint**: np.datetime64, np.timedelta64)"
      ]
    },
    {
      "cell_type": "code",
      "execution_count": null,
      "metadata": {
        "id": "FoRAbE_UndNy",
        "colab": {
          "base_uri": "https://localhost:8080/"
        },
        "outputId": "3bcf4131-064d-49cf-8f6b-294b2960fe27"
      },
      "outputs": [
        {
          "output_type": "stream",
          "name": "stdout",
          "text": [
            "2022-11-23\n",
            "2022-11-24\n",
            "2022-11-25\n"
          ]
        }
      ],
      "source": [
        "x = np.datetime64('today','D') - np.timedelta64(1,'D')\n",
        "y = np.datetime64('today','D')\n",
        "z = np.datetime64('today','D') + np.timedelta64(1,'D')\n",
        "print(x,y,z , sep ='\\n')"
      ]
    },
    {
      "cell_type": "markdown",
      "metadata": {
        "id": "EeMcD4vIndNy"
      },
      "source": [
        "#### 34. How to get all the dates corresponding to the month of July 2016? (★★☆) \n",
        "(**hint**: np.arange(dtype=datetime64\\['D'\\]))"
      ]
    },
    {
      "cell_type": "code",
      "execution_count": null,
      "metadata": {
        "id": "NKnFP2mdndNy",
        "colab": {
          "base_uri": "https://localhost:8080/"
        },
        "outputId": "6131338d-f99e-44b8-f813-041a868afbbf"
      },
      "outputs": [
        {
          "output_type": "stream",
          "name": "stdout",
          "text": [
            "['2016-07-01' '2016-07-02' '2016-07-03' '2016-07-04' '2016-07-05'\n",
            " '2016-07-06' '2016-07-07' '2016-07-08' '2016-07-09' '2016-07-10'\n",
            " '2016-07-11' '2016-07-12' '2016-07-13' '2016-07-14' '2016-07-15'\n",
            " '2016-07-16' '2016-07-17' '2016-07-18' '2016-07-19' '2016-07-20'\n",
            " '2016-07-21' '2016-07-22' '2016-07-23' '2016-07-24' '2016-07-25'\n",
            " '2016-07-26' '2016-07-27' '2016-07-28' '2016-07-29' '2016-07-30'\n",
            " '2016-07-31']\n"
          ]
        }
      ],
      "source": [
        "x = np.arange('2016-07', '2016-08', dtype = 'datetime64[D]')\n",
        "print(x)"
      ]
    },
    {
      "cell_type": "markdown",
      "metadata": {
        "id": "ehR0RiVtndNz"
      },
      "source": [
        "#### 35. How to compute ((A+B)\\*(-A/2)) in place (without copy)? (★★☆) \n",
        "(**hint**: np.add(out=), np.negative(out=), np.multiply(out=), np.divide(out=))"
      ]
    },
    {
      "cell_type": "code",
      "execution_count": null,
      "metadata": {
        "id": "gLnHAkS7ndN0",
        "colab": {
          "base_uri": "https://localhost:8080/"
        },
        "outputId": "97fc469c-e4ef-4c1d-9acd-1d83cfb29bdb"
      },
      "outputs": [
        {
          "output_type": "execute_result",
          "data": {
            "text/plain": [
              "array([-6., -6., -6.])"
            ]
          },
          "metadata": {},
          "execution_count": 121
        }
      ],
      "source": [
        "x = np.ones(3) * 2\n",
        "y = np.ones(3) * 4\n",
        "z = np.ones(3) * 6\n",
        "np.add(x,y,out = y)\n",
        "np.divide(x,2,out = x)\n",
        "np.negative(x, out = x)\n",
        "np.multiply(x,y, out = x)"
      ]
    },
    {
      "cell_type": "markdown",
      "metadata": {
        "id": "JRP8hO-FndN0"
      },
      "source": [
        "#### 36. Extract the integer part of a random array using 5 different methods (★★☆) \n",
        "(**hint**: %, np.floor, np.ceil, astype, np.trunc)"
      ]
    },
    {
      "cell_type": "code",
      "execution_count": null,
      "metadata": {
        "id": "Dgt_ZXKTndN1",
        "colab": {
          "base_uri": "https://localhost:8080/"
        },
        "outputId": "0918f19d-bf69-4154-c043-7a90cf00531c"
      },
      "outputs": [
        {
          "output_type": "stream",
          "name": "stdout",
          "text": [
            "[6. 5. 1. 9. 9. 1. 8. 3. 6. 0.]\n",
            "[6. 5. 1. 9. 9. 1. 8. 3. 6. 0.]\n",
            "[6. 5. 1. 9. 9. 1. 8. 3. 6. 0.]\n",
            "[6 5 1 9 9 1 8 3 6 0]\n",
            "[6. 5. 1. 9. 9. 1. 8. 3. 6. 0.]\n"
          ]
        }
      ],
      "source": [
        " x = np.random.uniform(0,10,10)\n",
        " print(x - x%1)\n",
        " print(np.floor(x))\n",
        " print(np.ceil(x) - 1)\n",
        " print(x.astype(int))\n",
        " print(np.trunc(x))"
      ]
    },
    {
      "cell_type": "markdown",
      "metadata": {
        "id": "MT3IhbrBndN2"
      },
      "source": [
        "#### 37. Create a 5x5 matrix with row values ranging from 0 to 4 (★★☆) \n",
        "(**hint**: np.arange)"
      ]
    },
    {
      "cell_type": "code",
      "execution_count": null,
      "metadata": {
        "id": "F1rvrjjGndN2",
        "colab": {
          "base_uri": "https://localhost:8080/"
        },
        "outputId": "a57bf4ae-e661-4d13-8984-0bf5b405381a"
      },
      "outputs": [
        {
          "output_type": "execute_result",
          "data": {
            "text/plain": [
              "array([[0, 1, 2, 3, 4],\n",
              "       [0, 1, 2, 3, 4],\n",
              "       [0, 1, 2, 3, 4],\n",
              "       [0, 1, 2, 3, 4],\n",
              "       [0, 1, 2, 3, 4]])"
            ]
          },
          "metadata": {},
          "execution_count": 33
        }
      ],
      "source": [
        "x = np.zeros((5,5),dtype= int)\n",
        "x += np.arange(5)\n",
        "x"
      ]
    },
    {
      "cell_type": "markdown",
      "metadata": {
        "id": "BRezMGV_ndN3"
      },
      "source": [
        "#### 38. Consider a generator function that generates 10 integers and use it to build an array (★☆☆) \n",
        "(**hint**: np.fromiter)"
      ]
    },
    {
      "cell_type": "code",
      "execution_count": null,
      "metadata": {
        "id": "qVnSbj4CndN3",
        "colab": {
          "base_uri": "https://localhost:8080/"
        },
        "outputId": "627607cc-634b-4e73-a907-6dab08e6fa19"
      },
      "outputs": [
        {
          "output_type": "stream",
          "name": "stdout",
          "text": [
            "[0. 1. 2. 3. 4. 5. 6. 7. 8. 9.]\n"
          ]
        }
      ],
      "source": [
        "def generate():\n",
        "  for i in range(10):yield i \n",
        "y = np.fromiter(generate(), dtype = float, count = -1)\n",
        "print(y)"
      ]
    },
    {
      "cell_type": "markdown",
      "metadata": {
        "id": "XX4gTk3RndN4"
      },
      "source": [
        "#### 39. Create a vector of size 10 with values ranging from 0 to 1, both excluded (★★☆) \n",
        "(**hint**: np.linspace)"
      ]
    },
    {
      "cell_type": "code",
      "execution_count": null,
      "metadata": {
        "id": "--eDHGkLndN4",
        "colab": {
          "base_uri": "https://localhost:8080/"
        },
        "outputId": "ba71b1f6-4b05-4d16-fd7a-550c179be805"
      },
      "outputs": [
        {
          "output_type": "execute_result",
          "data": {
            "text/plain": [
              "array([0.09090909, 0.18181818, 0.27272727, 0.36363636, 0.45454545,\n",
              "       0.54545455, 0.63636364, 0.72727273, 0.81818182, 0.90909091])"
            ]
          },
          "metadata": {},
          "execution_count": 35
        }
      ],
      "source": [
        "x = np.linspace(0,1,11,endpoint = False)[1:]\n",
        "x"
      ]
    },
    {
      "cell_type": "markdown",
      "metadata": {
        "id": "_VHeQ9FKndN4"
      },
      "source": [
        "#### 40. Create a random vector of size 10 and sort it (★★☆) \n",
        "(**hint**: sort)"
      ]
    },
    {
      "cell_type": "code",
      "execution_count": null,
      "metadata": {
        "id": "DJvFmCEhndN5",
        "colab": {
          "base_uri": "https://localhost:8080/"
        },
        "outputId": "ed07e6c4-166e-43f4-fa37-0c40e8cf7d2c"
      },
      "outputs": [
        {
          "output_type": "execute_result",
          "data": {
            "text/plain": [
              "array([0.0085542 , 0.04929482, 0.11260562, 0.30153299, 0.43796078,\n",
              "       0.62887958, 0.67693325, 0.71619589, 0.80411051, 0.98608354])"
            ]
          },
          "metadata": {},
          "execution_count": 36
        }
      ],
      "source": [
        "x = np.random.random(10)\n",
        "x.sort()\n",
        "x"
      ]
    },
    {
      "cell_type": "markdown",
      "metadata": {
        "id": "VpURswtVndN5"
      },
      "source": [
        "#### 41. How to sum a small array faster than np.sum? (★★☆) \n",
        "(**hint**: np.add.reduce)"
      ]
    },
    {
      "cell_type": "code",
      "execution_count": null,
      "metadata": {
        "id": "-IFnOeNzndN5",
        "colab": {
          "base_uri": "https://localhost:8080/"
        },
        "outputId": "b0694ae3-ac08-4517-95cf-ce90a9045db8"
      },
      "outputs": [
        {
          "output_type": "execute_result",
          "data": {
            "text/plain": [
              "45"
            ]
          },
          "metadata": {},
          "execution_count": 37
        }
      ],
      "source": [
        "x = np.arange(10)\n",
        "np.add.reduce(x)"
      ]
    },
    {
      "cell_type": "markdown",
      "metadata": {
        "id": "HgG3FqzmndN6"
      },
      "source": [
        "#### 42. Consider two random array A and B, check if they are equal (★★☆) \n",
        "(**hint**: np.allclose, np.array\\_equal)"
      ]
    },
    {
      "cell_type": "code",
      "execution_count": null,
      "metadata": {
        "id": "u0F2MAXUndN6",
        "colab": {
          "base_uri": "https://localhost:8080/"
        },
        "outputId": "0525b7e4-f73e-4c71-9a2d-f572c17f9338"
      },
      "outputs": [
        {
          "output_type": "stream",
          "name": "stdout",
          "text": [
            "False\n",
            "False\n"
          ]
        }
      ],
      "source": [
        "x = np.random.randint(0,2,5)\n",
        "y = np.random.randint(0,2,5)\n",
        "e = np.allclose(x,y)\n",
        "print(e)\n",
        "e = np.array_equal(x,y)\n",
        "print(e)"
      ]
    },
    {
      "cell_type": "markdown",
      "metadata": {
        "id": "e-LzJQsvndN6"
      },
      "source": [
        "#### 43. Make an array immutable (read-only) (★★☆) \n",
        "(**hint**: flags.writeable)"
      ]
    },
    {
      "cell_type": "code",
      "execution_count": null,
      "metadata": {
        "id": "b0YcyujmndN6"
      },
      "outputs": [],
      "source": [
        "x = np.zeros(10)\n",
        "x.flags.writeable = False\n"
      ]
    },
    {
      "cell_type": "markdown",
      "metadata": {
        "id": "mCSn-jOJndN6"
      },
      "source": [
        "#### 44. Consider a random 10x2 matrix representing cartesian coordinates, convert them to polar coordinates (★★☆) \n",
        "(**hint**: np.sqrt, np.arctan2)"
      ]
    },
    {
      "cell_type": "code",
      "execution_count": null,
      "metadata": {
        "id": "NoD058fmndN7",
        "colab": {
          "base_uri": "https://localhost:8080/"
        },
        "outputId": "90d55c7e-75ec-4acb-c79d-db2f7d4f0806"
      },
      "outputs": [
        {
          "output_type": "stream",
          "name": "stdout",
          "text": [
            "[0.78561788 0.67536289 1.04744404 0.43840174 1.28163972 0.19915316\n",
            " 0.15456387 0.41545567 0.69348938 0.61764992]\n",
            "[0.85056135 1.16416378 0.60871562 0.29348874 0.69351997 0.64303663\n",
            " 0.3933762  0.09449352 1.18025957 0.53955478]\n"
          ]
        }
      ],
      "source": [
        "x = np.random.random((10,2))\n",
        "y,z = x[:,0], x[:,1]\n",
        "r = np.sqrt(y**2 + z**2)\n",
        "t = np.arctan2(z,y)\n",
        "print(r)\n",
        "print(t)"
      ]
    },
    {
      "cell_type": "markdown",
      "metadata": {
        "id": "wwSpO-PnndN7"
      },
      "source": [
        "#### 45. Create random vector of size 10 and replace the maximum value by 0 (★★☆) \n",
        "(**hint**: argmax)"
      ]
    },
    {
      "cell_type": "code",
      "execution_count": null,
      "metadata": {
        "id": "noEZiKqFndN7",
        "colab": {
          "base_uri": "https://localhost:8080/"
        },
        "outputId": "bb32653b-b998-4b3b-b361-3628eb28e545"
      },
      "outputs": [
        {
          "output_type": "stream",
          "name": "stdout",
          "text": [
            "[0.116202   0.3574527  0.62992312 0.56728064 0.00651881 0.\n",
            " 0.30073955 0.74694365 0.2154673  0.25256462]\n"
          ]
        }
      ],
      "source": [
        "x = np.random.random(10)\n",
        "x[x.argmax()] = 0 \n",
        "print(x)"
      ]
    },
    {
      "cell_type": "markdown",
      "metadata": {
        "id": "2IGjSidpndN7"
      },
      "source": [
        "#### 46. Create a structured array with `x` and `y` coordinates covering the \\[0,1\\]x\\[0,1\\] area (★★☆) \n",
        "(**hint**: np.meshgrid)"
      ]
    },
    {
      "cell_type": "code",
      "execution_count": null,
      "metadata": {
        "id": "Z1mDbnOzndN8",
        "colab": {
          "base_uri": "https://localhost:8080/"
        },
        "outputId": "73f638d7-8053-460e-ffee-ff74d422f4d7"
      },
      "outputs": [
        {
          "output_type": "execute_result",
          "data": {
            "text/plain": [
              "array([[(0.  , 0.  ), (0.25, 0.  ), (0.5 , 0.  ), (0.75, 0.  ),\n",
              "        (1.  , 0.  )],\n",
              "       [(0.  , 0.25), (0.25, 0.25), (0.5 , 0.25), (0.75, 0.25),\n",
              "        (1.  , 0.25)],\n",
              "       [(0.  , 0.5 ), (0.25, 0.5 ), (0.5 , 0.5 ), (0.75, 0.5 ),\n",
              "        (1.  , 0.5 )],\n",
              "       [(0.  , 0.75), (0.25, 0.75), (0.5 , 0.75), (0.75, 0.75),\n",
              "        (1.  , 0.75)],\n",
              "       [(0.  , 1.  ), (0.25, 1.  ), (0.5 , 1.  ), (0.75, 1.  ),\n",
              "        (1.  , 1.  )]], dtype=[('x', '<f8'), ('y', '<f8')])"
            ]
          },
          "metadata": {},
          "execution_count": 44
        }
      ],
      "source": [
        "x = np.zeros((5,5),[('x',float),('y',float)])\n",
        "x['x'],x['y'] = np.meshgrid(np.linspace(0,1,5),np.linspace(0,1,5))\n",
        "x"
      ]
    },
    {
      "cell_type": "markdown",
      "metadata": {
        "id": "XdVQtr7bndN8"
      },
      "source": [
        "####  47. Given two arrays, X and Y, construct the Cauchy matrix C (Cij =1/(xi - yj)) \n",
        "(**hint**: np.subtract.outer)"
      ]
    },
    {
      "cell_type": "code",
      "execution_count": null,
      "metadata": {
        "id": "cfedZVgBndN8",
        "colab": {
          "base_uri": "https://localhost:8080/"
        },
        "outputId": "342a926d-3ea6-4f93-f03f-e0b6aa446c82"
      },
      "outputs": [
        {
          "output_type": "stream",
          "name": "stdout",
          "text": [
            "3638.163637117973\n"
          ]
        }
      ],
      "source": [
        "x = np.arange(8)\n",
        "y = x + 0.5 \n",
        "c = 1.0 / np.subtract.outer(x,y)\n",
        "print(np.linalg.det(c))"
      ]
    },
    {
      "cell_type": "markdown",
      "metadata": {
        "id": "fyR08ZnBndN8"
      },
      "source": [
        "#### 48. Print the minimum and maximum representable value for each numpy scalar type (★★☆) \n",
        "(**hint**: np.iinfo, np.finfo, eps)"
      ]
    },
    {
      "cell_type": "code",
      "execution_count": null,
      "metadata": {
        "id": "3Hcfa5o_ndN9",
        "colab": {
          "base_uri": "https://localhost:8080/"
        },
        "outputId": "68a3e36d-ce9a-4ac2-aedb-2b4f495f7e54"
      },
      "outputs": [
        {
          "output_type": "stream",
          "name": "stdout",
          "text": [
            "-128\n",
            "127\n",
            "-2147483648\n",
            "2147483647\n",
            "-9223372036854775808\n",
            "9223372036854775807\n",
            "-3.4028235e+38\n",
            "3.4028235e+38\n",
            "1.1920929e-07\n",
            "-1.7976931348623157e+308\n",
            "1.7976931348623157e+308\n",
            "2.220446049250313e-16\n"
          ]
        }
      ],
      "source": [
        "for dtype in [np.int8, np.int32 , np.int64]:\n",
        "  print(np.iinfo(dtype).min)\n",
        "  print(np.iinfo(dtype).max)\n",
        "for dtype in [np.float32, np.float64]:\n",
        "  print(np.finfo(dtype).min)\n",
        "  print(np.finfo(dtype).max)\n",
        "  print(np.finfo(dtype).eps)"
      ]
    },
    {
      "cell_type": "markdown",
      "metadata": {
        "id": "y0_NHWmRndN9"
      },
      "source": [
        "#### 49. How to print all the values of an array? (★★☆) \n",
        "(**hint**: np.set\\_printoptions)"
      ]
    },
    {
      "cell_type": "code",
      "execution_count": null,
      "metadata": {
        "id": "3qyxazFkndN9",
        "colab": {
          "base_uri": "https://localhost:8080/"
        },
        "outputId": "808ffe3d-2966-4789-c398-939eaac8e406"
      },
      "outputs": [
        {
          "output_type": "stream",
          "name": "stdout",
          "text": [
            "[[0. 0. 0. 0. 0. 0. 0. 0. 0. 0. 0. 0. 0. 0. 0. 0.]\n",
            " [0. 0. 0. 0. 0. 0. 0. 0. 0. 0. 0. 0. 0. 0. 0. 0.]\n",
            " [0. 0. 0. 0. 0. 0. 0. 0. 0. 0. 0. 0. 0. 0. 0. 0.]\n",
            " [0. 0. 0. 0. 0. 0. 0. 0. 0. 0. 0. 0. 0. 0. 0. 0.]\n",
            " [0. 0. 0. 0. 0. 0. 0. 0. 0. 0. 0. 0. 0. 0. 0. 0.]\n",
            " [0. 0. 0. 0. 0. 0. 0. 0. 0. 0. 0. 0. 0. 0. 0. 0.]\n",
            " [0. 0. 0. 0. 0. 0. 0. 0. 0. 0. 0. 0. 0. 0. 0. 0.]\n",
            " [0. 0. 0. 0. 0. 0. 0. 0. 0. 0. 0. 0. 0. 0. 0. 0.]\n",
            " [0. 0. 0. 0. 0. 0. 0. 0. 0. 0. 0. 0. 0. 0. 0. 0.]\n",
            " [0. 0. 0. 0. 0. 0. 0. 0. 0. 0. 0. 0. 0. 0. 0. 0.]\n",
            " [0. 0. 0. 0. 0. 0. 0. 0. 0. 0. 0. 0. 0. 0. 0. 0.]\n",
            " [0. 0. 0. 0. 0. 0. 0. 0. 0. 0. 0. 0. 0. 0. 0. 0.]\n",
            " [0. 0. 0. 0. 0. 0. 0. 0. 0. 0. 0. 0. 0. 0. 0. 0.]\n",
            " [0. 0. 0. 0. 0. 0. 0. 0. 0. 0. 0. 0. 0. 0. 0. 0.]\n",
            " [0. 0. 0. 0. 0. 0. 0. 0. 0. 0. 0. 0. 0. 0. 0. 0.]\n",
            " [0. 0. 0. 0. 0. 0. 0. 0. 0. 0. 0. 0. 0. 0. 0. 0.]]\n"
          ]
        }
      ],
      "source": [
        "np.set_printoptions()\n",
        "x = np.zeros((16,16))\n",
        "print(x)"
      ]
    },
    {
      "cell_type": "markdown",
      "metadata": {
        "id": "S4gDXdTgndN9"
      },
      "source": [
        "#### 50. How to find the closest value (to a given scalar) in a vector? (★★☆) \n",
        "(**hint**: argmin)"
      ]
    },
    {
      "cell_type": "code",
      "execution_count": null,
      "metadata": {
        "id": "aaqaNKiUndN-",
        "colab": {
          "base_uri": "https://localhost:8080/"
        },
        "outputId": "42624be7-bdb0-4107-b6d6-54faa48738e0"
      },
      "outputs": [
        {
          "output_type": "stream",
          "name": "stdout",
          "text": [
            "54\n"
          ]
        }
      ],
      "source": [
        "x = np.arange(100)\n",
        "y = np.random.uniform(0,100)\n",
        "index = (np.abs(x-y)).argmin()\n",
        "print(x[index])"
      ]
    },
    {
      "cell_type": "markdown",
      "metadata": {
        "id": "FPZDAkbPndN-"
      },
      "source": [
        "#### 51. Create a structured array representing a position (x,y) and a color (r,g,b) (★★☆) \n",
        "(**hint**: dtype)"
      ]
    },
    {
      "cell_type": "code",
      "execution_count": null,
      "metadata": {
        "id": "e8XYzzMfndN-",
        "colab": {
          "base_uri": "https://localhost:8080/"
        },
        "outputId": "72df12d1-8bd5-4f17-bbc1-deee542b2727"
      },
      "outputs": [
        {
          "output_type": "stream",
          "name": "stdout",
          "text": [
            "[((0., 0.), (0., 0., 0.)) ((0., 0.), (0., 0., 0.))\n",
            " ((0., 0.), (0., 0., 0.)) ((0., 0.), (0., 0., 0.))\n",
            " ((0., 0.), (0., 0., 0.)) ((0., 0.), (0., 0., 0.))\n",
            " ((0., 0.), (0., 0., 0.)) ((0., 0.), (0., 0., 0.))\n",
            " ((0., 0.), (0., 0., 0.)) ((0., 0.), (0., 0., 0.))]\n"
          ]
        },
        {
          "output_type": "stream",
          "name": "stderr",
          "text": [
            "/usr/local/lib/python3.7/dist-packages/ipykernel_launcher.py:5: FutureWarning: Passing (type, 1) or '1type' as a synonym of type is deprecated; in a future version of numpy, it will be understood as (type, (1,)) / '(1,)type'.\n",
            "  \"\"\"\n"
          ]
        }
      ],
      "source": [
        "x = np.zeros(10,[('position',[('x', float, 1),\n",
        "                              ('y', float, 1)]),\n",
        "                 ('color',[('r',float,1),\n",
        "                           ('g',float,1),\n",
        "                           ('b',float,1)])])\n",
        "print(x)"
      ]
    },
    {
      "cell_type": "markdown",
      "metadata": {
        "id": "AjSJ0-bnndN-"
      },
      "source": [
        "#### 52. Consider a random vector with shape (100,2) representing coordinates, find point by point distances (★★☆) \n",
        "(**hint**: np.atleast\\_2d, T, np.sqrt)"
      ]
    },
    {
      "cell_type": "code",
      "execution_count": null,
      "metadata": {
        "id": "ZMwWASnTndN_",
        "colab": {
          "base_uri": "https://localhost:8080/"
        },
        "outputId": "4d3939ab-e3f1-4b75-dca6-b1008e033353"
      },
      "outputs": [
        {
          "output_type": "stream",
          "name": "stdout",
          "text": [
            "[[0.         0.29546966 0.4004785  ... 0.57991761 0.91253577 0.54079679]\n",
            " [0.29546966 0.         0.43583418 ... 0.32468984 0.61811731 0.53474706]\n",
            " [0.4004785  0.43583418 0.         ... 0.47347307 0.92972362 0.14234893]\n",
            " ...\n",
            " [0.57991761 0.32468984 0.47347307 ... 0.         0.46472508 0.48489216]\n",
            " [0.91253577 0.61811731 0.92972362 ... 0.46472508 0.         0.94952294]\n",
            " [0.54079679 0.53474706 0.14234893 ... 0.48489216 0.94952294 0.        ]]\n"
          ]
        }
      ],
      "source": [
        "import scipy\n",
        "import scipy.spatial\n",
        "z = np.random.random((100,2))\n",
        "d = scipy.spatial.distance.cdist(z,z)\n",
        "print(d)"
      ]
    },
    {
      "cell_type": "markdown",
      "metadata": {
        "id": "VJBQmehmndN_"
      },
      "source": [
        "#### 53. How to convert a float (32 bits) array into an integer (32 bits) in place? \n",
        "(**hint**: astype(copy=False))"
      ]
    },
    {
      "cell_type": "code",
      "execution_count": null,
      "metadata": {
        "id": "s3_VasTkndN_",
        "colab": {
          "base_uri": "https://localhost:8080/"
        },
        "outputId": "6d7453e2-e462-486b-fa94-beda22239b1a"
      },
      "outputs": [
        {
          "output_type": "execute_result",
          "data": {
            "text/plain": [
              "array([0, 1, 2, 3, 4, 5, 6, 7, 8, 9], dtype=int32)"
            ]
          },
          "metadata": {},
          "execution_count": 55
        }
      ],
      "source": [
        "x = np.arange(10, dtype = np.float32)\n",
        "x = x.astype(np.int32, copy = False)\n",
        "x "
      ]
    },
    {
      "cell_type": "markdown",
      "metadata": {
        "id": "TzckctGzndN_"
      },
      "source": [
        "#### 54. How to read the following file? (★★☆) \n",
        "(**hint**: np.genfromtxt)"
      ]
    },
    {
      "cell_type": "markdown",
      "metadata": {
        "id": "9ah3Ugl9ndOA"
      },
      "source": [
        "```\n",
        "1, 2, 3, 4, 5\n",
        "6,  ,  , 7, 8\n",
        " ,  , 9,10,11\n",
        "```"
      ]
    },
    {
      "cell_type": "code",
      "execution_count": null,
      "metadata": {
        "id": "m4-16PgPndOA",
        "colab": {
          "base_uri": "https://localhost:8080/"
        },
        "outputId": "2a113678-14ba-4bb4-a0a3-55c99e77f552"
      },
      "outputs": [
        {
          "output_type": "stream",
          "name": "stdout",
          "text": [
            "[[ 1  2  3  4  5]\n",
            " [ 6 -1 -1  7  8]\n",
            " [-1 -1  9 10 11]]\n"
          ]
        },
        {
          "output_type": "stream",
          "name": "stderr",
          "text": [
            "/usr/local/lib/python3.7/dist-packages/ipykernel_launcher.py:4: DeprecationWarning: `np.int` is a deprecated alias for the builtin `int`. To silence this warning, use `int` by itself. Doing this will not modify any behavior and is safe. When replacing `np.int`, you may wish to use e.g. `np.int64` or `np.int32` to specify the precision. If you wish to review your current use, check the release note link for additional information.\n",
            "Deprecated in NumPy 1.20; for more details and guidance: https://numpy.org/devdocs/release/1.20.0-notes.html#deprecations\n",
            "  after removing the cwd from sys.path.\n"
          ]
        }
      ],
      "source": [
        "from numpy.lib.npyio import genfromtxt\n",
        "from io import StringIO \n",
        "s = StringIO(\"\"\"1, 2, 3, 4, 5\\n6,  ,  , 7, 8\\n ,  , 9,10,11\\n\"\"\")\n",
        "x = np.genfromtxt(s, delimiter=',', dtype=np.int)\n",
        "print(x)"
      ]
    },
    {
      "cell_type": "markdown",
      "metadata": {
        "id": "rQdkM-DDndOB"
      },
      "source": [
        "#### 55. What is the equivalent of enumerate for numpy arrays? (★★☆) \n",
        "(**hint**: np.ndenumerate, np.ndindex)"
      ]
    },
    {
      "cell_type": "code",
      "execution_count": null,
      "metadata": {
        "id": "rX-fNDIbndOB",
        "colab": {
          "base_uri": "https://localhost:8080/"
        },
        "outputId": "6c4f7f4f-593e-48da-e5d1-9696a0a2652f"
      },
      "outputs": [
        {
          "output_type": "stream",
          "name": "stdout",
          "text": [
            "(0, 0) 0\n",
            "(0, 1) 1\n",
            "(0, 2) 2\n",
            "(1, 0) 3\n",
            "(1, 1) 4\n",
            "(1, 2) 5\n",
            "(2, 0) 6\n",
            "(2, 1) 7\n",
            "(2, 2) 8\n",
            "(0, 0) 0\n",
            "(0, 1) 1\n",
            "(0, 2) 2\n",
            "(1, 0) 3\n",
            "(1, 1) 4\n",
            "(1, 2) 5\n",
            "(2, 0) 6\n",
            "(2, 1) 7\n",
            "(2, 2) 8\n"
          ]
        }
      ],
      "source": [
        "x = np.arange(9).reshape(3,3)\n",
        "for index, value in np.ndenumerate(x):\n",
        "  print(index, value)\n",
        "for index in np.ndindex(x.shape):\n",
        "  print(index, x[index])"
      ]
    },
    {
      "cell_type": "markdown",
      "metadata": {
        "id": "bZ4Zn4b7ndOB"
      },
      "source": [
        "#### 56. Generate a generic 2D Gaussian-like array (★★☆) \n",
        "(**hint**: np.meshgrid, np.exp)"
      ]
    },
    {
      "cell_type": "code",
      "execution_count": null,
      "metadata": {
        "id": "TDohbPHsndOC",
        "colab": {
          "base_uri": "https://localhost:8080/"
        },
        "outputId": "a78db09b-c6d4-4c55-f772-7f4a140625be"
      },
      "outputs": [
        {
          "output_type": "stream",
          "name": "stdout",
          "text": [
            "[[0.36787944 0.44822088 0.51979489 0.57375342 0.60279818 0.60279818\n",
            "  0.57375342 0.51979489 0.44822088 0.36787944]\n",
            " [0.44822088 0.54610814 0.63331324 0.69905581 0.73444367 0.73444367\n",
            "  0.69905581 0.63331324 0.54610814 0.44822088]\n",
            " [0.51979489 0.63331324 0.73444367 0.81068432 0.85172308 0.85172308\n",
            "  0.81068432 0.73444367 0.63331324 0.51979489]\n",
            " [0.57375342 0.69905581 0.81068432 0.89483932 0.9401382  0.9401382\n",
            "  0.89483932 0.81068432 0.69905581 0.57375342]\n",
            " [0.60279818 0.73444367 0.85172308 0.9401382  0.98773022 0.98773022\n",
            "  0.9401382  0.85172308 0.73444367 0.60279818]\n",
            " [0.60279818 0.73444367 0.85172308 0.9401382  0.98773022 0.98773022\n",
            "  0.9401382  0.85172308 0.73444367 0.60279818]\n",
            " [0.57375342 0.69905581 0.81068432 0.89483932 0.9401382  0.9401382\n",
            "  0.89483932 0.81068432 0.69905581 0.57375342]\n",
            " [0.51979489 0.63331324 0.73444367 0.81068432 0.85172308 0.85172308\n",
            "  0.81068432 0.73444367 0.63331324 0.51979489]\n",
            " [0.44822088 0.54610814 0.63331324 0.69905581 0.73444367 0.73444367\n",
            "  0.69905581 0.63331324 0.54610814 0.44822088]\n",
            " [0.36787944 0.44822088 0.51979489 0.57375342 0.60279818 0.60279818\n",
            "  0.57375342 0.51979489 0.44822088 0.36787944]]\n"
          ]
        }
      ],
      "source": [
        "x,y = np.meshgrid(np.linspace(-1,1,10), np.linspace(-1,1,10))\n",
        "d = np.sqrt(x*x + y*y)\n",
        "sigma , mu = 1.0, 0.0\n",
        "g = np.exp(-( (d-mu)**2 / (2.0 * sigma**2)))\n",
        "print(g)"
      ]
    },
    {
      "cell_type": "markdown",
      "metadata": {
        "id": "3Gf7yecyndOC"
      },
      "source": [
        "#### 57. How to randomly place p elements in a 2D array? (★★☆) \n",
        "(**hint**: np.put, np.random.choice)"
      ]
    },
    {
      "cell_type": "code",
      "execution_count": null,
      "metadata": {
        "id": "BIGqdFRAndOC",
        "colab": {
          "base_uri": "https://localhost:8080/"
        },
        "outputId": "de66628e-486c-4a20-8f41-ab4667372859"
      },
      "outputs": [
        {
          "output_type": "stream",
          "name": "stdout",
          "text": [
            "[[0. 0. 0. 0. 0. 0. 0. 0. 0. 0.]\n",
            " [0. 0. 0. 1. 0. 0. 0. 0. 0. 0.]\n",
            " [0. 0. 0. 0. 0. 0. 0. 0. 0. 0.]\n",
            " [0. 0. 0. 0. 0. 0. 0. 0. 0. 0.]\n",
            " [0. 0. 0. 0. 0. 0. 0. 0. 0. 0.]\n",
            " [0. 0. 0. 0. 0. 0. 0. 0. 0. 0.]\n",
            " [0. 0. 0. 0. 0. 0. 0. 0. 0. 0.]\n",
            " [0. 0. 0. 0. 0. 0. 0. 0. 0. 0.]\n",
            " [0. 0. 0. 1. 1. 0. 0. 0. 0. 0.]\n",
            " [0. 0. 0. 0. 0. 0. 0. 0. 0. 0.]]\n"
          ]
        }
      ],
      "source": [
        "n = 10\n",
        "p = 3 \n",
        "x = np.zeros((n,n))\n",
        "np.put(x,np.random.choice(range(n*n),p,replace = False),1)\n",
        "print(x)"
      ]
    },
    {
      "cell_type": "markdown",
      "metadata": {
        "id": "U654FnW7ndOD"
      },
      "source": [
        "#### 58. Subtract the mean of each row of a matrix (★★☆) \n",
        "(**hint**: mean(axis=,keepdims=))"
      ]
    },
    {
      "cell_type": "code",
      "execution_count": null,
      "metadata": {
        "id": "C2CkSjMJndOD",
        "colab": {
          "base_uri": "https://localhost:8080/"
        },
        "outputId": "ae3e9a4b-4329-42c4-f9f7-57506c9f4d91"
      },
      "outputs": [
        {
          "output_type": "stream",
          "name": "stdout",
          "text": [
            "[[ 0.14170946 -0.27287447 -0.10709642 -0.10594684  0.30275069  0.00329137\n",
            "   0.20411053 -0.07103723  0.29842443 -0.39333153]\n",
            " [-0.23141351  0.34976986  0.26918983 -0.41939882  0.17193256 -0.29352851\n",
            "   0.10227935  0.00798821  0.22740907 -0.18422803]\n",
            " [ 0.38983434 -0.05669435  0.40008169 -0.06450349  0.04201026 -0.34313979\n",
            "  -0.21467686 -0.38855652  0.31380827 -0.07816354]\n",
            " [ 0.27929016 -0.52735611  0.08484383 -0.32344104 -0.14098396  0.22651095\n",
            "  -0.08062933  0.35116424 -0.24554794  0.37614919]\n",
            " [-0.39167505  0.50943018 -0.05175405  0.03051749  0.27600983 -0.2406364\n",
            "  -0.2624066  -0.02287283  0.39155698 -0.23816955]]\n"
          ]
        }
      ],
      "source": [
        "x = np.random.rand(5,10)\n",
        "y = x-x.mean(axis =1 , keepdims= True)\n",
        "y = x-x.mean(axis=1).reshape(-1,1)\n",
        "print(y)"
      ]
    },
    {
      "cell_type": "markdown",
      "metadata": {
        "id": "aXGNzwcXndOD"
      },
      "source": [
        "#### 59. How to sort an array by the nth column? (★★☆) \n",
        "(**hint**: argsort)"
      ]
    },
    {
      "cell_type": "code",
      "execution_count": null,
      "metadata": {
        "id": "Tmks8KvZndOD",
        "colab": {
          "base_uri": "https://localhost:8080/"
        },
        "outputId": "bda222e9-ab33-461e-e803-71dfb3a7aad5"
      },
      "outputs": [
        {
          "output_type": "stream",
          "name": "stdout",
          "text": [
            "[[9 4 7]\n",
            " [6 8 7]\n",
            " [9 0 2]]\n",
            "[[9 0 2]\n",
            " [9 4 7]\n",
            " [6 8 7]]\n"
          ]
        }
      ],
      "source": [
        "x = np.random.randint(0,10,(3,3))\n",
        "print(x)\n",
        "print(x[x[:,1].argsort()])"
      ]
    },
    {
      "cell_type": "markdown",
      "metadata": {
        "id": "iivkkSdfndOE"
      },
      "source": [
        "#### 60. How to tell if a given 2D array has null columns? (★★☆) \n",
        "(**hint**: any, ~)"
      ]
    },
    {
      "cell_type": "code",
      "execution_count": null,
      "metadata": {
        "id": "fd_CiIMLndOE",
        "colab": {
          "base_uri": "https://localhost:8080/"
        },
        "outputId": "9063b76d-ab89-4061-e9e3-982ed7fa4f26"
      },
      "outputs": [
        {
          "output_type": "stream",
          "name": "stdout",
          "text": [
            "False\n"
          ]
        }
      ],
      "source": [
        "x = np.random.randint(0,3,(3,10))\n",
        "print((~x.any(axis=0)).any())"
      ]
    },
    {
      "cell_type": "markdown",
      "metadata": {
        "id": "kSl5v8ldndOE"
      },
      "source": [
        "#### 61. Find the nearest value from a given value in an array (★★☆) \n",
        "(**hint**: np.abs, argmin, flat)"
      ]
    },
    {
      "cell_type": "code",
      "execution_count": null,
      "metadata": {
        "id": "2GuX6HGrndOE",
        "colab": {
          "base_uri": "https://localhost:8080/"
        },
        "outputId": "59d0050e-a5e1-4920-8a6c-4e31c4fcff6e"
      },
      "outputs": [
        {
          "output_type": "stream",
          "name": "stdout",
          "text": [
            "0.6944445297278979\n"
          ]
        }
      ],
      "source": [
        "x = np.random.uniform(0,1,10)\n",
        "y = 0.5\n",
        "m =x.flat[np.abs(x - y).argmin()]\n",
        "print(m)"
      ]
    },
    {
      "cell_type": "markdown",
      "metadata": {
        "id": "kPMvoxlAndOE"
      },
      "source": [
        "#### 62. Considering two arrays with shape (1,3) and (3,1), how to compute their sum using an iterator? (★★☆) \n",
        "(**hint**: np.nditer)"
      ]
    },
    {
      "cell_type": "code",
      "execution_count": null,
      "metadata": {
        "id": "XcWUki6xndOF",
        "colab": {
          "base_uri": "https://localhost:8080/"
        },
        "outputId": "dd4257b9-5670-4885-bbbb-f5b0b9282bd3"
      },
      "outputs": [
        {
          "output_type": "stream",
          "name": "stdout",
          "text": [
            "[[0 1 2]\n",
            " [1 2 3]\n",
            " [2 3 4]]\n"
          ]
        }
      ],
      "source": [
        "a = np.arange(3).reshape(3,1)\n",
        "b = np.arange(3).reshape(1,3)\n",
        "it = np.nditer([a,b,None])\n",
        "for x,y,z in it:\n",
        "   z[...] = x + y\n",
        "print(it.operands[2]) "
      ]
    },
    {
      "cell_type": "markdown",
      "metadata": {
        "id": "1ZlkEO-HndOF"
      },
      "source": [
        "#### 63. Create an array class that has a name attribute (★★☆) \n",
        "(**hint**: class method)"
      ]
    },
    {
      "cell_type": "code",
      "execution_count": null,
      "metadata": {
        "id": "NeZ1pq0AndOF",
        "colab": {
          "base_uri": "https://localhost:8080/"
        },
        "outputId": "a02d8b14-118e-45ca-8e84-216929ec1c22"
      },
      "outputs": [
        {
          "output_type": "stream",
          "name": "stdout",
          "text": [
            "range_10\n"
          ]
        }
      ],
      "source": [
        "class NamedArray(np.ndarray):\n",
        "    def __new__(cls, array, name=\"no name\"):\n",
        "        obj = np.asarray(array).view(cls)\n",
        "        obj.name = name\n",
        "        return obj\n",
        "    def __array_finalize__(self, obj):\n",
        "        if obj is None: return\n",
        "        self.info = getattr(obj, 'name', \"no name\")\n",
        "\n",
        "Z = NamedArray(np.arange(10), \"range_10\")\n",
        "print (Z.name)"
      ]
    },
    {
      "cell_type": "markdown",
      "metadata": {
        "id": "pERsM3E2ndOF"
      },
      "source": [
        "#### 64. Consider a given vector, how to add 1 to each element indexed by a second vector (be careful with repeated indices)? (★★★) \n",
        "(**hint**: np.bincount | np.add.at)"
      ]
    },
    {
      "cell_type": "code",
      "execution_count": null,
      "metadata": {
        "id": "aF2xWNXbndOF",
        "colab": {
          "base_uri": "https://localhost:8080/"
        },
        "outputId": "38ca218a-fc50-4bcd-9a87-a70733785107"
      },
      "outputs": [
        {
          "output_type": "stream",
          "name": "stdout",
          "text": [
            "[2. 2. 4. 4. 4. 4. 2. 2. 3. 3.]\n"
          ]
        }
      ],
      "source": [
        "x = np.ones(10)\n",
        "i = np.random.randint(0,len(x),20)\n",
        "x += np.bincount(i, minlength= len(x))\n",
        "print(x)"
      ]
    },
    {
      "cell_type": "markdown",
      "metadata": {
        "id": "jFuAwz7wndOG"
      },
      "source": [
        "#### 65. How to accumulate elements of a vector (X) to an array (F) based on an index list (I)? (★★★) \n",
        "(**hint**: np.bincount)"
      ]
    },
    {
      "cell_type": "code",
      "execution_count": null,
      "metadata": {
        "id": "l6jeoQRkndOG",
        "colab": {
          "base_uri": "https://localhost:8080/"
        },
        "outputId": "01c73ee5-70cb-4f87-e29a-a3874ff92007"
      },
      "outputs": [
        {
          "output_type": "stream",
          "name": "stdout",
          "text": [
            "[0. 7. 0. 6. 5. 0. 0. 0. 0. 3.]\n"
          ]
        }
      ],
      "source": [
        "x = [1,2,3,4,5,6]\n",
        "i = [1,3,9,3,4,1]\n",
        "f =np.bincount(i,x)\n",
        "print(f)"
      ]
    },
    {
      "cell_type": "markdown",
      "metadata": {
        "id": "feaNbT-YndOG"
      },
      "source": [
        "#### 66. Considering a (w,h,3) image of (dtype=ubyte), compute the number of unique colors (★★★) \n",
        "(**hint**: np.unique)"
      ]
    },
    {
      "cell_type": "code",
      "execution_count": null,
      "metadata": {
        "id": "9KLS7ZjDndOG",
        "colab": {
          "base_uri": "https://localhost:8080/"
        },
        "outputId": "c0cb669c-23fe-4a57-928a-d54f605e3243"
      },
      "outputs": [
        {
          "output_type": "stream",
          "name": "stdout",
          "text": [
            "8\n"
          ]
        }
      ],
      "source": [
        "w,h = 16,16\n",
        "i =np.random.randint(0,2,(h,w,3)).astype(np.ubyte)\n",
        "f = i[...,0]*(256*256) + i[...,1]*256 +i[...,2]\n",
        "n = len(np.unique(f))\n",
        "print(n)"
      ]
    },
    {
      "cell_type": "markdown",
      "metadata": {
        "id": "FpTgfjEPndOH"
      },
      "source": [
        "#### 67. Considering a four dimensions array, how to get sum over the last two axis at once? (★★★) \n",
        "(**hint**: sum(axis=(-2,-1)))"
      ]
    },
    {
      "cell_type": "code",
      "execution_count": null,
      "metadata": {
        "id": "OYr5UUgundOH",
        "colab": {
          "base_uri": "https://localhost:8080/"
        },
        "outputId": "42ea6c64-5d84-42d8-b325-846af2f20ea8"
      },
      "outputs": [
        {
          "output_type": "stream",
          "name": "stdout",
          "text": [
            "3\n"
          ]
        }
      ],
      "source": [
        "sum =a.reshape(a.shape[:-2] + (-1,)).sum(axis=-1)\n",
        "print(sum)"
      ]
    },
    {
      "cell_type": "markdown",
      "metadata": {
        "id": "80DDDRyandOH"
      },
      "source": [
        "#### 68. Considering a one-dimensional vector D, how to compute means of subsets of D using a vector S of same size describing subset  indices? (★★★) \n",
        "(**hint**: np.bincount)"
      ]
    },
    {
      "cell_type": "code",
      "execution_count": null,
      "metadata": {
        "id": "Q8GHnk82ndOI",
        "colab": {
          "base_uri": "https://localhost:8080/"
        },
        "outputId": "f4f2748b-3ae0-43ea-a7c8-51546c7fe96a"
      },
      "outputs": [
        {
          "output_type": "stream",
          "name": "stdout",
          "text": [
            "0      0.343329\n",
            "1      0.228953\n",
            "2      0.809521\n",
            "3      0.022167\n",
            "4      0.941078\n",
            "         ...   \n",
            "94     0.452299\n",
            "95     0.540933\n",
            "96     0.533523\n",
            "99     0.074975\n",
            "100    0.829360\n",
            "Length: 67, dtype: float64\n"
          ]
        }
      ],
      "source": [
        "import pandas as pd\n",
        "d =np.random.uniform(0,1,100)\n",
        "s = np.random.randint(0,101,100)\n",
        "print(pd.Series(d).groupby(s).mean())"
      ]
    },
    {
      "cell_type": "markdown",
      "metadata": {
        "id": "VBlhTyAMndOI"
      },
      "source": [
        "#### 69. How to get the diagonal of a dot product? (★★★) \n",
        "(**hint**: np.diag)"
      ]
    },
    {
      "cell_type": "code",
      "execution_count": null,
      "metadata": {
        "id": "CsX4WL9kndOI",
        "colab": {
          "base_uri": "https://localhost:8080/"
        },
        "outputId": "7f3c29ed-df85-46cb-f9a0-78874c6fef8f"
      },
      "outputs": [
        {
          "output_type": "stream",
          "name": "stdout",
          "text": [
            "[2.4689234  1.80583724 2.19576287 1.13824034 1.57122816]\n"
          ]
        }
      ],
      "source": [
        "a = np.random.uniform(0,1,(5,5))\n",
        "b = np.random.uniform(0,1,(5,5))\n",
        "print(np.sum(a * b.T, axis=1))"
      ]
    },
    {
      "cell_type": "markdown",
      "metadata": {
        "id": "OXyJspiqndOJ"
      },
      "source": [
        "#### 70. Consider the vector \\[1, 2, 3, 4, 5\\], how to build a new vector with 3 consecutive zeros interleaved between each value? (★★★) \n",
        "(**hint**: array\\[::4\\])"
      ]
    },
    {
      "cell_type": "code",
      "execution_count": null,
      "metadata": {
        "id": "h-BiVWJ4ndOJ",
        "colab": {
          "base_uri": "https://localhost:8080/"
        },
        "outputId": "6222fbed-498d-4a72-97ba-80a5e2ca9d8a"
      },
      "outputs": [
        {
          "output_type": "stream",
          "name": "stdout",
          "text": [
            "[1. 0. 0. 0. 2. 0. 0. 0. 3. 0. 0. 0. 4. 0. 0. 0. 5.]\n"
          ]
        }
      ],
      "source": [
        "x = np.array([1,2,3,4,5])\n",
        "nz = 3\n",
        "y = np.zeros(len(x) + (len(x)-1)*(nz))\n",
        "y[::nz+1] = x\n",
        "print(y)"
      ]
    },
    {
      "cell_type": "markdown",
      "metadata": {
        "id": "msVLWE7MndOJ"
      },
      "source": [
        "#### 71. Consider an array of dimension (5,5,3), how to mulitply it by an array with dimensions (5,5)? (★★★) \n",
        "(**hint**: array\\[:, :, None\\])"
      ]
    },
    {
      "cell_type": "code",
      "execution_count": null,
      "metadata": {
        "collapsed": true,
        "id": "z7ZdqALNndOK",
        "colab": {
          "base_uri": "https://localhost:8080/"
        },
        "outputId": "db2b10f8-53ce-488c-acb2-0c400137cd9d"
      },
      "outputs": [
        {
          "output_type": "stream",
          "name": "stdout",
          "text": [
            "[[[2. 2. 2.]\n",
            "  [2. 2. 2.]\n",
            "  [2. 2. 2.]\n",
            "  [2. 2. 2.]\n",
            "  [2. 2. 2.]]\n",
            "\n",
            " [[2. 2. 2.]\n",
            "  [2. 2. 2.]\n",
            "  [2. 2. 2.]\n",
            "  [2. 2. 2.]\n",
            "  [2. 2. 2.]]\n",
            "\n",
            " [[2. 2. 2.]\n",
            "  [2. 2. 2.]\n",
            "  [2. 2. 2.]\n",
            "  [2. 2. 2.]\n",
            "  [2. 2. 2.]]\n",
            "\n",
            " [[2. 2. 2.]\n",
            "  [2. 2. 2.]\n",
            "  [2. 2. 2.]\n",
            "  [2. 2. 2.]\n",
            "  [2. 2. 2.]]\n",
            "\n",
            " [[2. 2. 2.]\n",
            "  [2. 2. 2.]\n",
            "  [2. 2. 2.]\n",
            "  [2. 2. 2.]\n",
            "  [2. 2. 2.]]]\n"
          ]
        }
      ],
      "source": [
        "a = np.ones((5,5,3))\n",
        "b = 2*np.ones((5,5))\n",
        "print(a * b[:,:,None])"
      ]
    },
    {
      "cell_type": "markdown",
      "metadata": {
        "id": "KliqN2opndOK"
      },
      "source": [
        "#### 72. How to swap two rows of an array? (★★★) \n",
        "(**hint**: array\\[\\[\\]\\] = array\\[\\[\\]\\])"
      ]
    },
    {
      "cell_type": "code",
      "execution_count": null,
      "metadata": {
        "id": "cUYhwtQCndOL",
        "colab": {
          "base_uri": "https://localhost:8080/"
        },
        "outputId": "2879450b-7557-49be-8f62-fb094ea63ab7"
      },
      "outputs": [
        {
          "output_type": "stream",
          "name": "stdout",
          "text": [
            "[[ 5  6  7  8  9]\n",
            " [ 0  1  2  3  4]\n",
            " [10 11 12 13 14]\n",
            " [15 16 17 18 19]\n",
            " [20 21 22 23 24]]\n"
          ]
        }
      ],
      "source": [
        "a = np.arange(25).reshape(5,5)\n",
        "a[[0,1]] = a[[1,0]]\n",
        "print(a)"
      ]
    },
    {
      "cell_type": "markdown",
      "metadata": {
        "id": "UiHUCUKwndOL"
      },
      "source": [
        "#### 73. Consider a set of 10 triplets describing 10 triangles (with shared vertices), find the set of unique line segments composing all the  triangles (★★★) \n",
        "(**hint**: repeat, np.roll, np.sort, view, np.unique)"
      ]
    },
    {
      "cell_type": "code",
      "execution_count": null,
      "metadata": {
        "id": "W9zj9LyMndOM",
        "colab": {
          "base_uri": "https://localhost:8080/"
        },
        "outputId": "1b384c99-30d2-4463-a010-b9e41afef887"
      },
      "outputs": [
        {
          "output_type": "stream",
          "name": "stdout",
          "text": [
            "[( 0, 29) ( 0, 40) ( 0, 49) ( 0, 73) ( 1, 23) ( 1, 26) ( 9, 49) ( 9, 65)\n",
            " (10, 34) (10, 48) (23, 26) (29, 40) (29, 66) (29, 79) (34, 48) (36, 50)\n",
            " (36, 90) (37, 80) (37, 89) (46, 86) (46, 99) (49, 65) (49, 73) (50, 90)\n",
            " (66, 79) (80, 89) (86, 99) (89, 89) (89, 91)]\n"
          ]
        }
      ],
      "source": [
        "faces = np.random.randint(0,100,(10,3))\n",
        "f = np.roll(faces.repeat(2,axis=1),-1,axis=1)\n",
        "f = f.reshape(len(f)*3,2)\n",
        "f = np.sort(f,axis=1)\n",
        "g = f.view( dtype=[('p0',f.dtype),('p1',f.dtype)])\n",
        "g = np.unique(g)\n",
        "print(g)"
      ]
    },
    {
      "cell_type": "markdown",
      "metadata": {
        "id": "X6L_WbVBndOM"
      },
      "source": [
        "#### 74. Given an array C that is a bincount, how to produce an array A such that np.bincount(A) == C? (★★★) \n",
        "(**hint**: np.repeat)"
      ]
    },
    {
      "cell_type": "code",
      "execution_count": null,
      "metadata": {
        "id": "JHrSq8b1ndON",
        "colab": {
          "base_uri": "https://localhost:8080/"
        },
        "outputId": "e4947b73-e02a-4598-bf8e-f67e5d3fce37"
      },
      "outputs": [
        {
          "output_type": "stream",
          "name": "stdout",
          "text": [
            "[1 1 2 3 4 4 6]\n"
          ]
        }
      ],
      "source": [
        "c = np.bincount([1,1,2,3,4,4,6])\n",
        "a = np.repeat(np.arange(len(c)),c)\n",
        "print(a)"
      ]
    },
    {
      "cell_type": "markdown",
      "metadata": {
        "id": "2oZaDI06ndON"
      },
      "source": [
        "#### 75. How to compute averages using a sliding window over an array? (★★★) \n",
        "(**hint**: np.cumsum)"
      ]
    },
    {
      "cell_type": "code",
      "execution_count": null,
      "metadata": {
        "id": "VXngbSSmndOO",
        "colab": {
          "base_uri": "https://localhost:8080/"
        },
        "outputId": "aa9becd2-f643-4020-a96e-52c8d1ec36f6"
      },
      "outputs": [
        {
          "output_type": "stream",
          "name": "stdout",
          "text": [
            "[ 1.  2.  3.  4.  5.  6.  7.  8.  9. 10. 11. 12. 13. 14. 15. 16. 17. 18.]\n"
          ]
        }
      ],
      "source": [
        "def moving_average(a, n=3):\n",
        "  ret = np.cumsum(a, dtype=float)\n",
        "  ret[n:] = ret[n:] - ret[:-n]\n",
        "  return ret[n -1:] / n\n",
        "z = np.arange(20)\n",
        "print(moving_average(z, n=3))"
      ]
    },
    {
      "cell_type": "markdown",
      "metadata": {
        "id": "uu92GiJ2ndOO"
      },
      "source": [
        "#### 76. Consider a one-dimensional array Z, build a two-dimensional array whose first row is (Z\\[0\\],Z\\[1\\],Z\\[2\\]) and each subsequent row is  shifted by 1 (last row should be (Z\\[-3\\],Z\\[-2\\],Z\\[-1\\]) (★★★) \n",
        "(**hint**: from numpy.lib import stride_tricks)"
      ]
    },
    {
      "cell_type": "code",
      "execution_count": null,
      "metadata": {
        "id": "6M0vrSF8ndOO",
        "colab": {
          "base_uri": "https://localhost:8080/"
        },
        "outputId": "cae2ede9-9986-47a2-c860-67beaa59a3fc"
      },
      "outputs": [
        {
          "output_type": "stream",
          "name": "stdout",
          "text": [
            "[[0 1 2]\n",
            " [1 2 3]\n",
            " [2 3 4]\n",
            " [3 4 5]\n",
            " [4 5 6]\n",
            " [5 6 7]\n",
            " [6 7 8]\n",
            " [7 8 9]]\n"
          ]
        }
      ],
      "source": [
        "from numpy.lib import stride_tricks\n",
        "def rolling(a, window):\n",
        "  shape = (a.size - window + 1, window)\n",
        "  strides = (a.itemsize, a.itemsize)\n",
        "  return stride_tricks.as_strided(a, shape=shape,strides=strides)\n",
        "z = rolling(np.arange(10),3)\n",
        "print(z)"
      ]
    },
    {
      "cell_type": "markdown",
      "metadata": {
        "id": "sEnWlq0ondOO"
      },
      "source": [
        "#### 77. How to negate a boolean, or to change the sign of a float inplace? (★★★) \n",
        "(**hint**: np.logical_not, np.negative)"
      ]
    },
    {
      "cell_type": "code",
      "execution_count": null,
      "metadata": {
        "id": "lWzK2l17ndOP",
        "colab": {
          "base_uri": "https://localhost:8080/"
        },
        "outputId": "4cd55e6b-f44d-4274-d4c5-2547a28bbd8c"
      },
      "outputs": [
        {
          "output_type": "execute_result",
          "data": {
            "text/plain": [
              "array([ 0.77337521, -0.16254077,  0.09187928,  0.13198082,  0.36570426,\n",
              "       -0.59544155,  0.40578622, -0.83740924,  0.37001428,  0.04445168,\n",
              "       -0.58989436,  0.35851215, -0.12655298,  0.17987903, -0.44625544,\n",
              "        0.89383379,  0.99971878, -0.53147848, -0.28548565,  0.57303848,\n",
              "        0.9011966 , -0.4383721 , -0.66528277,  0.3271457 , -0.7845033 ,\n",
              "        0.19008236, -0.9067288 ,  0.06869337, -0.78870509, -0.24707222,\n",
              "       -0.48437643, -0.21323878, -0.64618166,  0.7301341 ,  0.64898231,\n",
              "        0.42499913, -0.26455714, -0.92093947,  0.95033791,  0.95300683,\n",
              "       -0.87862258,  0.89012711,  0.81166344, -0.96381338, -0.27403091,\n",
              "       -0.68096413, -0.14814717, -0.83361106,  0.14347058,  0.45491192,\n",
              "       -0.85867262, -0.78345536,  0.13206678,  0.81302946,  0.91412479,\n",
              "       -0.81318713,  0.41163102,  0.49235493,  0.73643481,  0.77731879,\n",
              "        0.40313349,  0.46766272, -0.43208631,  0.13060772, -0.12145357,\n",
              "        0.79035161,  0.5987945 , -0.35436128, -0.01402866, -0.39804129,\n",
              "        0.93424209, -0.22855279, -0.9464553 , -0.14954111,  0.12039045,\n",
              "       -0.33767719,  0.95403234,  0.37864511,  0.3231141 ,  0.75235548,\n",
              "        0.09018089,  0.6465729 ,  0.25487254, -0.35891622, -0.82508005,\n",
              "       -0.96586414,  0.64852313, -0.8695913 , -0.96625069, -0.74367163,\n",
              "       -0.26788163,  0.22670521,  0.25384599, -0.14926281, -0.03176332,\n",
              "        0.95457715,  0.91149082, -0.85008829,  0.96811728,  0.59040772])"
            ]
          },
          "metadata": {},
          "execution_count": 110
        }
      ],
      "source": [
        "Z = np.random.randint(0,2,100)\n",
        "np.logical_not(Z, out=Z)\n",
        "\n",
        "Z = np.random.uniform(-1.0,1.0,100)\n",
        "np.negative(Z, out=Z)"
      ]
    },
    {
      "cell_type": "markdown",
      "metadata": {
        "id": "OS4-oz4lndOQ"
      },
      "source": [
        "#### 78. Consider 2 sets of points P0,P1 describing lines (2d) and a point p, how to compute distance from p to each line i  (P0\\[i\\],P1\\[i\\])? (★★★)"
      ]
    },
    {
      "cell_type": "code",
      "execution_count": null,
      "metadata": {
        "id": "oxQgmy4yndOQ",
        "colab": {
          "base_uri": "https://localhost:8080/"
        },
        "outputId": "eca942f7-6ca5-40cf-a875-aa3baba7b81f"
      },
      "outputs": [
        {
          "output_type": "stream",
          "name": "stdout",
          "text": [
            "[3.42970368 8.65494908 5.94735488 3.44700583 6.46676541 4.65650157\n",
            " 3.0354823  2.47072995 9.1487529  1.78568718]\n"
          ]
        }
      ],
      "source": [
        "def distance(P0, P1, p):\n",
        "    T = P1 - P0\n",
        "    L = (T**2).sum(axis=1)\n",
        "    U = -((P0[:,0]-p[...,0])*T[:,0] + (P0[:,1]-p[...,1])*T[:,1]) / L\n",
        "    U = U.reshape(len(U),1)\n",
        "    D = P0 + U*T - p\n",
        "    return np.sqrt((D**2).sum(axis=1))\n",
        "\n",
        "P0 = np.random.uniform(-10,10,(10,2))\n",
        "P1 = np.random.uniform(-10,10,(10,2))\n",
        "p  = np.random.uniform(-10,10,( 1,2))\n",
        "print(distance(P0, P1, p))"
      ]
    },
    {
      "cell_type": "markdown",
      "metadata": {
        "id": "AHrO44_gndOR"
      },
      "source": [
        "#### 79. Consider 2 sets of points P0,P1 describing lines (2d) and a set of points P, how to compute distance from each point j (P\\[j\\]) to each line i (P0\\[i\\],P1\\[i\\])? (★★★)"
      ]
    },
    {
      "cell_type": "code",
      "execution_count": null,
      "metadata": {
        "id": "hH5wqvcdndOR",
        "colab": {
          "base_uri": "https://localhost:8080/"
        },
        "outputId": "d5c5e46a-9e5a-4a2c-92a4-dd2b29f4e8cc"
      },
      "outputs": [
        {
          "output_type": "stream",
          "name": "stdout",
          "text": [
            "[[ 4.80909837  7.81932162 10.89351274 11.38864698  1.63261034  1.33356413\n",
            "  14.7286914   1.3338734   2.10496353  7.00402355]\n",
            " [ 4.75396977  5.87577493  0.69280438  4.01716117  5.92179113 15.1382854\n",
            "   1.78452979 14.48750031 13.70256548  1.87070576]\n",
            " [ 0.41261897  1.37765113  2.51072115  0.21426635  9.69163697 12.93784348\n",
            "   0.60176833 11.84383625  9.68395187  5.37981875]\n",
            " [ 3.17444172  7.81172453  4.72912546  7.38057409  2.51316184 10.83366081\n",
            "   6.40251572 10.51198057 11.41290145  1.85764924]\n",
            " [ 4.19850241  8.99531517  5.66323182  8.44046035  1.45993274 11.23251244\n",
            "   7.15360367 11.03220293 12.33244511  2.85708885]\n",
            " [ 3.9611623   9.45218386 12.61754281 13.13370856  3.37822513  1.64362778\n",
            "  16.35313759  1.45383253  2.71513202  8.74619073]\n",
            " [ 0.87833916  6.37241108  4.40309437  6.61790258  3.24962329  8.74817579\n",
            "   6.58349852  8.32106317  9.06981308  1.31823431]\n",
            " [ 2.56435703  2.12911185  0.8779744   2.70358342  7.14401787  7.66654013\n",
            "   3.65261677  6.79512536  6.03970571  2.41196555]\n",
            " [ 4.30789447  1.37708402  1.12679579  2.57744024  7.24709115  5.74855993\n",
            "   4.31356979  4.84387874  4.18151943  2.3439546 ]\n",
            " [ 1.35213806 10.51176988 12.14947554 13.23510766  3.44449167  1.29091788\n",
            "  15.26312514  1.52146857  5.51094626  8.55230912]]\n"
          ]
        }
      ],
      "source": [
        "P0 = np.random.uniform(-10, 10, (10,2))\n",
        "P1 = np.random.uniform(-10,10,(10,2))\n",
        "p = np.random.uniform(-10, 10, (10,2))\n",
        "print(np.array([distance(P0,P1,p_i) for p_i in p]))"
      ]
    },
    {
      "cell_type": "markdown",
      "metadata": {
        "id": "CG7lTA5lndOR"
      },
      "source": [
        "#### 80. Consider an arbitrary array, write a function that extract a subpart with a fixed shape and centered on a given element (pad with a `fill` value when necessary) (★★★) \n",
        "(**hint**: minimum, maximum)"
      ]
    },
    {
      "cell_type": "code",
      "execution_count": null,
      "metadata": {
        "id": "wEn--nZxndOS",
        "colab": {
          "base_uri": "https://localhost:8080/"
        },
        "outputId": "a60e2bdb-91de-4503-adf9-a8dd25fbf635"
      },
      "outputs": [
        {
          "output_type": "stream",
          "name": "stdout",
          "text": [
            "[[0 9 8 2 5 8 6 6 5 9]\n",
            " [2 6 7 0 5 7 3 8 5 4]\n",
            " [4 4 2 6 6 8 6 6 9 3]\n",
            " [9 9 5 4 0 0 5 3 2 0]\n",
            " [1 2 9 6 3 2 5 7 5 2]\n",
            " [4 1 9 6 5 9 6 8 4 8]\n",
            " [5 8 3 1 9 4 4 2 6 9]\n",
            " [8 4 2 0 0 2 5 3 5 3]\n",
            " [4 6 5 5 3 8 8 5 6 3]\n",
            " [4 3 1 8 0 5 1 0 9 7]]\n",
            "[[0 0 0 0 0]\n",
            " [0 0 9 8 2]\n",
            " [0 2 6 7 0]\n",
            " [0 4 4 2 6]\n",
            " [0 9 9 5 4]]\n"
          ]
        },
        {
          "output_type": "stream",
          "name": "stderr",
          "text": [
            "/usr/local/lib/python3.7/dist-packages/ipykernel_launcher.py:23: FutureWarning: Using a non-tuple sequence for multidimensional indexing is deprecated; use `arr[tuple(seq)]` instead of `arr[seq]`. In the future this will be interpreted as an array index, `arr[np.array(seq)]`, which will result either in an error or a different result.\n"
          ]
        }
      ],
      "source": [
        "Z = np.random.randint(0,10,(10,10))\n",
        "shape = (5,5)\n",
        "fill  = 0\n",
        "position = (1,1)\n",
        "\n",
        "R = np.ones(shape, dtype=Z.dtype)*fill\n",
        "P  = np.array(list(position)).astype(int)\n",
        "Rs = np.array(list(R.shape)).astype(int)\n",
        "Zs = np.array(list(Z.shape)).astype(int)\n",
        "\n",
        "R_start = np.zeros((len(shape),)).astype(int)\n",
        "R_stop  = np.array(list(shape)).astype(int)\n",
        "Z_start = (P-Rs//2)\n",
        "Z_stop  = (P+Rs//2)+Rs%2\n",
        "\n",
        "R_start = (R_start - np.minimum(Z_start,0)).tolist()\n",
        "Z_start = (np.maximum(Z_start,0)).tolist()\n",
        "R_stop = np.maximum(R_start, (R_stop - np.maximum(Z_stop-Zs,0))).tolist()\n",
        "Z_stop = (np.minimum(Z_stop,Zs)).tolist()\n",
        "\n",
        "r = [slice(start,stop) for start,stop in zip(R_start,R_stop)]\n",
        "z = [slice(start,stop) for start,stop in zip(Z_start,Z_stop)]\n",
        "R[r] = Z[z]\n",
        "print(Z)\n",
        "print(R)"
      ]
    },
    {
      "cell_type": "markdown",
      "metadata": {
        "id": "rVvIbOH9ndOS"
      },
      "source": [
        "#### 81. Consider an array Z = \\[1,2,3,4,5,6,7,8,9,10,11,12,13,14\\], how to generate an array R = \\[\\[1,2,3,4\\], \\[2,3,4,5\\], \\[3,4,5,6\\], ..., \\[11,12,13,14\\]\\]? (★★★) \n",
        "(**hint**: stride\\_tricks.as\\_strided)"
      ]
    },
    {
      "cell_type": "code",
      "execution_count": null,
      "metadata": {
        "id": "xR6hNS4yndOT",
        "colab": {
          "base_uri": "https://localhost:8080/"
        },
        "outputId": "377a38a3-7b4e-49ae-ef93-20e827cab474"
      },
      "outputs": [
        {
          "output_type": "stream",
          "name": "stdout",
          "text": [
            "[[ 1  2  3  4]\n",
            " [ 2  3  4  5]\n",
            " [ 3  4  5  6]\n",
            " [ 4  5  6  7]\n",
            " [ 5  6  7  8]\n",
            " [ 6  7  8  9]\n",
            " [ 7  8  9 10]\n",
            " [ 8  9 10 11]\n",
            " [ 9 10 11 12]\n",
            " [10 11 12 13]\n",
            " [11 12 13 14]]\n"
          ]
        }
      ],
      "source": [
        "Z = np.arange(1,15,dtype=np.uint32)\n",
        "R = stride_tricks.as_strided(Z,(11,4),(4,4))\n",
        "print(R)"
      ]
    },
    {
      "cell_type": "markdown",
      "metadata": {
        "id": "WAO2jA4IndOT"
      },
      "source": [
        "#### 82. Compute a matrix rank (★★★) \n",
        "(**hint**: np.linalg.svd) (suggestion: np.linalg.svd)"
      ]
    },
    {
      "cell_type": "code",
      "execution_count": null,
      "metadata": {
        "id": "WRAKYRDkndOU",
        "colab": {
          "base_uri": "https://localhost:8080/"
        },
        "outputId": "1e286554-bf98-47a0-ff2f-f5c6da75bb89"
      },
      "outputs": [
        {
          "output_type": "stream",
          "name": "stdout",
          "text": [
            "10\n"
          ]
        }
      ],
      "source": [
        "Z = np.random.uniform(0,1,(10,10))\n",
        "U, S, V = np.linalg.svd(Z) # Singular Value Decomposition\n",
        "rank = np.sum(S > 1e-10)\n",
        "print(rank)"
      ]
    },
    {
      "cell_type": "markdown",
      "metadata": {
        "id": "yUPRLv9SndOU"
      },
      "source": [
        "#### 83. How to find the most frequent value in an array? \n",
        "(**hint**: np.bincount, argmax)"
      ]
    },
    {
      "cell_type": "code",
      "execution_count": null,
      "metadata": {
        "id": "dWEglp0CndOb",
        "colab": {
          "base_uri": "https://localhost:8080/"
        },
        "outputId": "690b2ee3-4421-4045-9cae-3dcc4143d4ea"
      },
      "outputs": [
        {
          "output_type": "stream",
          "name": "stdout",
          "text": [
            "0\n"
          ]
        }
      ],
      "source": [
        "Z = np.random.randint(0,10,50)\n",
        "print(np.bincount(Z).argmax())"
      ]
    },
    {
      "cell_type": "markdown",
      "metadata": {
        "id": "jtC9W1efndOb"
      },
      "source": [
        "#### 84. Extract all the contiguous 3x3 blocks from a random 10x10 matrix (★★★) \n",
        "(**hint**: stride\\_tricks.as\\_strided)"
      ]
    },
    {
      "cell_type": "code",
      "execution_count": null,
      "metadata": {
        "id": "gzN1N-I9ndOb",
        "colab": {
          "base_uri": "https://localhost:8080/"
        },
        "outputId": "59988a8c-df6d-4f6f-c2f0-4316e111fb7c"
      },
      "outputs": [
        {
          "output_type": "stream",
          "name": "stdout",
          "text": [
            "[[[[1 4 2]\n",
            "   [2 3 3]\n",
            "   [1 4 3]]\n",
            "\n",
            "  [[4 2 1]\n",
            "   [3 3 0]\n",
            "   [4 3 3]]\n",
            "\n",
            "  [[2 1 4]\n",
            "   [3 0 3]\n",
            "   [3 3 1]]\n",
            "\n",
            "  [[1 4 4]\n",
            "   [0 3 1]\n",
            "   [3 1 0]]\n",
            "\n",
            "  [[4 4 1]\n",
            "   [3 1 2]\n",
            "   [1 0 0]]\n",
            "\n",
            "  [[4 1 1]\n",
            "   [1 2 4]\n",
            "   [0 0 4]]\n",
            "\n",
            "  [[1 1 3]\n",
            "   [2 4 0]\n",
            "   [0 4 2]]\n",
            "\n",
            "  [[1 3 2]\n",
            "   [4 0 2]\n",
            "   [4 2 3]]]\n",
            "\n",
            "\n",
            " [[[2 3 3]\n",
            "   [1 4 3]\n",
            "   [1 0 3]]\n",
            "\n",
            "  [[3 3 0]\n",
            "   [4 3 3]\n",
            "   [0 3 1]]\n",
            "\n",
            "  [[3 0 3]\n",
            "   [3 3 1]\n",
            "   [3 1 2]]\n",
            "\n",
            "  [[0 3 1]\n",
            "   [3 1 0]\n",
            "   [1 2 1]]\n",
            "\n",
            "  [[3 1 2]\n",
            "   [1 0 0]\n",
            "   [2 1 4]]\n",
            "\n",
            "  [[1 2 4]\n",
            "   [0 0 4]\n",
            "   [1 4 4]]\n",
            "\n",
            "  [[2 4 0]\n",
            "   [0 4 2]\n",
            "   [4 4 0]]\n",
            "\n",
            "  [[4 0 2]\n",
            "   [4 2 3]\n",
            "   [4 0 0]]]\n",
            "\n",
            "\n",
            " [[[1 4 3]\n",
            "   [1 0 3]\n",
            "   [0 4 0]]\n",
            "\n",
            "  [[4 3 3]\n",
            "   [0 3 1]\n",
            "   [4 0 2]]\n",
            "\n",
            "  [[3 3 1]\n",
            "   [3 1 2]\n",
            "   [0 2 1]]\n",
            "\n",
            "  [[3 1 0]\n",
            "   [1 2 1]\n",
            "   [2 1 2]]\n",
            "\n",
            "  [[1 0 0]\n",
            "   [2 1 4]\n",
            "   [1 2 4]]\n",
            "\n",
            "  [[0 0 4]\n",
            "   [1 4 4]\n",
            "   [2 4 2]]\n",
            "\n",
            "  [[0 4 2]\n",
            "   [4 4 0]\n",
            "   [4 2 4]]\n",
            "\n",
            "  [[4 2 3]\n",
            "   [4 0 0]\n",
            "   [2 4 3]]]\n",
            "\n",
            "\n",
            " [[[1 0 3]\n",
            "   [0 4 0]\n",
            "   [2 2 3]]\n",
            "\n",
            "  [[0 3 1]\n",
            "   [4 0 2]\n",
            "   [2 3 3]]\n",
            "\n",
            "  [[3 1 2]\n",
            "   [0 2 1]\n",
            "   [3 3 3]]\n",
            "\n",
            "  [[1 2 1]\n",
            "   [2 1 2]\n",
            "   [3 3 0]]\n",
            "\n",
            "  [[2 1 4]\n",
            "   [1 2 4]\n",
            "   [3 0 1]]\n",
            "\n",
            "  [[1 4 4]\n",
            "   [2 4 2]\n",
            "   [0 1 1]]\n",
            "\n",
            "  [[4 4 0]\n",
            "   [4 2 4]\n",
            "   [1 1 1]]\n",
            "\n",
            "  [[4 0 0]\n",
            "   [2 4 3]\n",
            "   [1 1 0]]]\n",
            "\n",
            "\n",
            " [[[0 4 0]\n",
            "   [2 2 3]\n",
            "   [3 1 3]]\n",
            "\n",
            "  [[4 0 2]\n",
            "   [2 3 3]\n",
            "   [1 3 3]]\n",
            "\n",
            "  [[0 2 1]\n",
            "   [3 3 3]\n",
            "   [3 3 3]]\n",
            "\n",
            "  [[2 1 2]\n",
            "   [3 3 0]\n",
            "   [3 3 0]]\n",
            "\n",
            "  [[1 2 4]\n",
            "   [3 0 1]\n",
            "   [3 0 0]]\n",
            "\n",
            "  [[2 4 2]\n",
            "   [0 1 1]\n",
            "   [0 0 4]]\n",
            "\n",
            "  [[4 2 4]\n",
            "   [1 1 1]\n",
            "   [0 4 2]]\n",
            "\n",
            "  [[2 4 3]\n",
            "   [1 1 0]\n",
            "   [4 2 4]]]\n",
            "\n",
            "\n",
            " [[[2 2 3]\n",
            "   [3 1 3]\n",
            "   [3 1 0]]\n",
            "\n",
            "  [[2 3 3]\n",
            "   [1 3 3]\n",
            "   [1 0 0]]\n",
            "\n",
            "  [[3 3 3]\n",
            "   [3 3 3]\n",
            "   [0 0 3]]\n",
            "\n",
            "  [[3 3 0]\n",
            "   [3 3 0]\n",
            "   [0 3 3]]\n",
            "\n",
            "  [[3 0 1]\n",
            "   [3 0 0]\n",
            "   [3 3 0]]\n",
            "\n",
            "  [[0 1 1]\n",
            "   [0 0 4]\n",
            "   [3 0 4]]\n",
            "\n",
            "  [[1 1 1]\n",
            "   [0 4 2]\n",
            "   [0 4 3]]\n",
            "\n",
            "  [[1 1 0]\n",
            "   [4 2 4]\n",
            "   [4 3 0]]]\n",
            "\n",
            "\n",
            " [[[3 1 3]\n",
            "   [3 1 0]\n",
            "   [1 3 1]]\n",
            "\n",
            "  [[1 3 3]\n",
            "   [1 0 0]\n",
            "   [3 1 2]]\n",
            "\n",
            "  [[3 3 3]\n",
            "   [0 0 3]\n",
            "   [1 2 1]]\n",
            "\n",
            "  [[3 3 0]\n",
            "   [0 3 3]\n",
            "   [2 1 3]]\n",
            "\n",
            "  [[3 0 0]\n",
            "   [3 3 0]\n",
            "   [1 3 0]]\n",
            "\n",
            "  [[0 0 4]\n",
            "   [3 0 4]\n",
            "   [3 0 4]]\n",
            "\n",
            "  [[0 4 2]\n",
            "   [0 4 3]\n",
            "   [0 4 0]]\n",
            "\n",
            "  [[4 2 4]\n",
            "   [4 3 0]\n",
            "   [4 0 4]]]\n",
            "\n",
            "\n",
            " [[[3 1 0]\n",
            "   [1 3 1]\n",
            "   [2 1 1]]\n",
            "\n",
            "  [[1 0 0]\n",
            "   [3 1 2]\n",
            "   [1 1 2]]\n",
            "\n",
            "  [[0 0 3]\n",
            "   [1 2 1]\n",
            "   [1 2 1]]\n",
            "\n",
            "  [[0 3 3]\n",
            "   [2 1 3]\n",
            "   [2 1 1]]\n",
            "\n",
            "  [[3 3 0]\n",
            "   [1 3 0]\n",
            "   [1 1 1]]\n",
            "\n",
            "  [[3 0 4]\n",
            "   [3 0 4]\n",
            "   [1 1 4]]\n",
            "\n",
            "  [[0 4 3]\n",
            "   [0 4 0]\n",
            "   [1 4 1]]\n",
            "\n",
            "  [[4 3 0]\n",
            "   [4 0 4]\n",
            "   [4 1 1]]]]\n"
          ]
        }
      ],
      "source": [
        "Z = np.random.randint(0,5,(10,10))\n",
        "n = 3\n",
        "i = 1 + (Z.shape[0]-3)\n",
        "j = 1 + (Z.shape[1]-3)\n",
        "C = stride_tricks.as_strided(Z, shape=(i, j, n, n), strides=Z.strides + Z.strides)\n",
        "print(C)"
      ]
    },
    {
      "cell_type": "markdown",
      "metadata": {
        "id": "De2PnmCKndOb"
      },
      "source": [
        "#### 85. Create a 2D array subclass such that Z\\[i,j\\] == Z\\[j,i\\] (★★★) \n",
        "(**hint**: class method)"
      ]
    },
    {
      "cell_type": "code",
      "execution_count": null,
      "metadata": {
        "id": "jaxc6_BfndOc",
        "colab": {
          "base_uri": "https://localhost:8080/"
        },
        "outputId": "1ab4204f-7445-4fae-8ee5-e5861fe6a850"
      },
      "outputs": [
        {
          "output_type": "stream",
          "name": "stdout",
          "text": [
            "[[ 4  7 13  9  7]\n",
            " [ 7  4 11 13  6]\n",
            " [13 11  3 42  8]\n",
            " [ 9 13 42  4 10]\n",
            " [ 7  6  8 10  7]]\n"
          ]
        }
      ],
      "source": [
        "class Symetric(np.ndarray):\n",
        "    def __setitem__(self, index, value):\n",
        "        i,j = index\n",
        "        super(Symetric, self).__setitem__((i,j), value)\n",
        "        super(Symetric, self).__setitem__((j,i), value)\n",
        "\n",
        "def symetric(Z):\n",
        "    return np.asarray(Z + Z.T - np.diag(Z.diagonal())).view(Symetric)\n",
        "\n",
        "S = symetric(np.random.randint(0,10,(5,5)))\n",
        "S[2,3] = 42\n",
        "print(S)"
      ]
    },
    {
      "cell_type": "markdown",
      "metadata": {
        "id": "hHRxWny8ndOc"
      },
      "source": [
        "#### 86. Consider a set of p matrices wich shape (n,n) and a set of p vectors with shape (n,1). How to compute the sum of of the p matrix products at once? (result has shape (n,1)) (★★★) \n",
        "(**hint**: np.tensordot)"
      ]
    },
    {
      "cell_type": "code",
      "execution_count": null,
      "metadata": {
        "id": "_OV4iRLrndOc",
        "colab": {
          "base_uri": "https://localhost:8080/"
        },
        "outputId": "ecf48673-7cfa-41f1-861a-69349a0257f2"
      },
      "outputs": [
        {
          "output_type": "stream",
          "name": "stdout",
          "text": [
            "[[200.]\n",
            " [200.]\n",
            " [200.]\n",
            " [200.]\n",
            " [200.]\n",
            " [200.]\n",
            " [200.]\n",
            " [200.]\n",
            " [200.]\n",
            " [200.]\n",
            " [200.]\n",
            " [200.]\n",
            " [200.]\n",
            " [200.]\n",
            " [200.]\n",
            " [200.]\n",
            " [200.]\n",
            " [200.]\n",
            " [200.]\n",
            " [200.]]\n"
          ]
        }
      ],
      "source": [
        "p, n = 10, 20\n",
        "M = np.ones((p,n,n))\n",
        "V = np.ones((p,n,1))\n",
        "S = np.tensordot(M, V, axes=[[0, 2], [0, 1]])\n",
        "print(S)"
      ]
    },
    {
      "cell_type": "markdown",
      "metadata": {
        "id": "DH8GmmwyndOc"
      },
      "source": [
        "#### 87. Consider a 16x16 array, how to get the block-sum (block size is 4x4)? (★★★) \n",
        "(**hint**: np.add.reduceat)"
      ]
    },
    {
      "cell_type": "code",
      "execution_count": null,
      "metadata": {
        "id": "hcHRutlhndOc",
        "colab": {
          "base_uri": "https://localhost:8080/"
        },
        "outputId": "cc1a0a30-d533-4192-b44e-9885159c933a"
      },
      "outputs": [
        {
          "output_type": "stream",
          "name": "stdout",
          "text": [
            "[[16. 16. 16. 16.]\n",
            " [16. 16. 16. 16.]\n",
            " [16. 16. 16. 16.]\n",
            " [16. 16. 16. 16.]]\n"
          ]
        }
      ],
      "source": [
        "Z = np.ones((16,16))\n",
        "k = 4\n",
        "S = np.add.reduceat(np.add.reduceat(Z, np.arange(0, Z.shape[0], k), axis=0),\n",
        "                                       np.arange(0, Z.shape[1], k), axis=1)\n",
        "print(S)"
      ]
    },
    {
      "cell_type": "markdown",
      "metadata": {
        "id": "Gw804jOJndOd"
      },
      "source": [
        "#### 88. How to implement the Game of Life using numpy arrays? (★★★)"
      ]
    },
    {
      "cell_type": "code",
      "execution_count": null,
      "metadata": {
        "id": "Co2pDm7MndOd",
        "colab": {
          "base_uri": "https://localhost:8080/"
        },
        "outputId": "a0ed339b-f5e8-4d50-9a8d-fcfc7266b9c6"
      },
      "outputs": [
        {
          "output_type": "stream",
          "name": "stdout",
          "text": [
            "[[0 0 0 ... 0 0 0]\n",
            " [0 0 0 ... 0 0 0]\n",
            " [0 0 0 ... 1 0 0]\n",
            " ...\n",
            " [0 0 0 ... 0 0 0]\n",
            " [0 0 0 ... 0 0 0]\n",
            " [0 0 0 ... 0 0 0]]\n"
          ]
        }
      ],
      "source": [
        "def iterate(Z):\n",
        "\n",
        "    N = (Z[0:-2,0:-2] + Z[0:-2,1:-1] + Z[0:-2,2:] +\n",
        "         Z[1:-1,0:-2]                + Z[1:-1,2:] +\n",
        "         Z[2:  ,0:-2] + Z[2:  ,1:-1] + Z[2:  ,2:])\n",
        "    birth = (N==3) & (Z[1:-1,1:-1]==0)\n",
        "    survive = ((N==2) | (N==3)) & (Z[1:-1,1:-1]==1)\n",
        "    Z[...] = 0\n",
        "    Z[1:-1,1:-1][birth | survive] = 1\n",
        "    return Z\n",
        "\n",
        "Z = np.random.randint(0,2,(50,50))\n",
        "for i in range(100): Z = iterate(Z)\n",
        "print(Z)"
      ]
    },
    {
      "cell_type": "markdown",
      "metadata": {
        "id": "6MuPA_UIndOd"
      },
      "source": [
        "#### 89. How to get the n largest values of an array (★★★) \n",
        "(**hint**: np.argsort | np.argpartition)"
      ]
    },
    {
      "cell_type": "code",
      "execution_count": null,
      "metadata": {
        "id": "4_PLf3HindOd",
        "colab": {
          "base_uri": "https://localhost:8080/"
        },
        "outputId": "b0497032-eed4-492a-ae13-7c037000892d"
      },
      "outputs": [
        {
          "output_type": "stream",
          "name": "stdout",
          "text": [
            "[9995 9996 9997 9998 9999]\n"
          ]
        }
      ],
      "source": [
        "Z = np.arange(10000)\n",
        "np.random.shuffle(Z)\n",
        "n = 5\n",
        "print (Z[np.argsort(Z)[-n:]])"
      ]
    },
    {
      "cell_type": "markdown",
      "metadata": {
        "id": "wvFUbhXgndOd"
      },
      "source": [
        "#### 90. Given an arbitrary number of vectors, build the cartesian product (every combinations of every item) (★★★) \n",
        "(**hint**: np.indices)"
      ]
    },
    {
      "cell_type": "code",
      "execution_count": null,
      "metadata": {
        "scrolled": true,
        "id": "7icpqjpqndOd",
        "colab": {
          "base_uri": "https://localhost:8080/"
        },
        "outputId": "53f82c6e-29f9-42cc-d14a-e27f02918fc9"
      },
      "outputs": [
        {
          "output_type": "stream",
          "name": "stdout",
          "text": [
            "[[1 4 6]\n",
            " [1 4 7]\n",
            " [1 5 6]\n",
            " [1 5 7]\n",
            " [2 4 6]\n",
            " [2 4 7]\n",
            " [2 5 6]\n",
            " [2 5 7]\n",
            " [3 4 6]\n",
            " [3 4 7]\n",
            " [3 5 6]\n",
            " [3 5 7]]\n"
          ]
        }
      ],
      "source": [
        "def cartesian(arrays):\n",
        "    arrays = [np.asarray(a) for a in arrays]\n",
        "    shape = (len(x) for x in arrays)\n",
        "\n",
        "    ix = np.indices(shape, dtype=int)\n",
        "    ix = ix.reshape(len(arrays), -1).T\n",
        "\n",
        "    for n, arr in enumerate(arrays):\n",
        "        ix[:, n] = arrays[n][ix[:, n]]\n",
        "\n",
        "    return ix\n",
        "\n",
        "print (cartesian(([1, 2, 3], [4, 5], [6, 7])))"
      ]
    },
    {
      "cell_type": "markdown",
      "metadata": {
        "id": "uk9OS9EVndOe"
      },
      "source": [
        "#### 91. How to create a record array from a regular array? (★★★) \n",
        "(**hint**: np.core.records.fromarrays)"
      ]
    },
    {
      "cell_type": "code",
      "execution_count": null,
      "metadata": {
        "id": "952ljisPndOe",
        "colab": {
          "base_uri": "https://localhost:8080/"
        },
        "outputId": "76ec9d08-c3bb-4857-da3c-7c17941a5560"
      },
      "outputs": [
        {
          "output_type": "stream",
          "name": "stdout",
          "text": [
            "[(b'Hello', 2.5, 3) (b'World', 3.6, 2)]\n"
          ]
        }
      ],
      "source": [
        "Z = np.array([(\"Hello\", 2.5, 3),\n",
        "              (\"World\", 3.6, 2)])\n",
        "R = np.core.records.fromarrays(Z.T, \n",
        "                               names='col1, col2, col3',\n",
        "                               formats = 'S8, f8, i8')\n",
        "print(R)"
      ]
    },
    {
      "cell_type": "markdown",
      "metadata": {
        "id": "638z04H0ndOe"
      },
      "source": [
        "#### 92. Consider a large vector Z, compute Z to the power of 3 using 3 different methods (★★★) \n",
        "(**hint**: np.power, \\*, np.einsum)"
      ]
    },
    {
      "cell_type": "code",
      "execution_count": null,
      "metadata": {
        "id": "SnG7iyxSndOe",
        "colab": {
          "base_uri": "https://localhost:8080/",
          "height": 352
        },
        "outputId": "0fed459c-9edd-4db8-e22b-d74a600f631d"
      },
      "outputs": [
        {
          "output_type": "error",
          "ename": "TypeError",
          "evalue": "ignored",
          "traceback": [
            "\u001b[0;31m---------------------------------------------------------------------------\u001b[0m",
            "\u001b[0;31mTypeError\u001b[0m                                 Traceback (most recent call last)",
            "\u001b[0;32m<ipython-input-126-a370807230cb>\u001b[0m in \u001b[0;36m<module>\u001b[0;34m\u001b[0m\n\u001b[0;32m----> 1\u001b[0;31m \u001b[0mx\u001b[0m \u001b[0;34m=\u001b[0m \u001b[0mnp\u001b[0m\u001b[0;34m.\u001b[0m\u001b[0mrandom\u001b[0m\u001b[0;34m.\u001b[0m\u001b[0mrand\u001b[0m\u001b[0;34m(\u001b[0m\u001b[0;36m5e7\u001b[0m\u001b[0;34m)\u001b[0m\u001b[0;34m\u001b[0m\u001b[0;34m\u001b[0m\u001b[0m\n\u001b[0m\u001b[1;32m      2\u001b[0m \u001b[0;34m\u001b[0m\u001b[0m\n\u001b[1;32m      3\u001b[0m \u001b[0mget_ipython\u001b[0m\u001b[0;34m(\u001b[0m\u001b[0;34m)\u001b[0m\u001b[0;34m.\u001b[0m\u001b[0mrun_line_magic\u001b[0m\u001b[0;34m(\u001b[0m\u001b[0;34m'timeit'\u001b[0m\u001b[0;34m,\u001b[0m \u001b[0;34m'np.power(x,3)'\u001b[0m\u001b[0;34m)\u001b[0m\u001b[0;34m\u001b[0m\u001b[0;34m\u001b[0m\u001b[0m\n\u001b[1;32m      4\u001b[0m \u001b[0mget_ipython\u001b[0m\u001b[0;34m(\u001b[0m\u001b[0;34m)\u001b[0m\u001b[0;34m.\u001b[0m\u001b[0mrun_line_magic\u001b[0m\u001b[0;34m(\u001b[0m\u001b[0;34m'timeit'\u001b[0m\u001b[0;34m,\u001b[0m \u001b[0;34m'x*x*x'\u001b[0m\u001b[0;34m)\u001b[0m\u001b[0;34m\u001b[0m\u001b[0;34m\u001b[0m\u001b[0m\n\u001b[1;32m      5\u001b[0m \u001b[0mget_ipython\u001b[0m\u001b[0;34m(\u001b[0m\u001b[0;34m)\u001b[0m\u001b[0;34m.\u001b[0m\u001b[0mrun_line_magic\u001b[0m\u001b[0;34m(\u001b[0m\u001b[0;34m'timeit'\u001b[0m\u001b[0;34m,\u001b[0m \u001b[0;34m\"np.einsum('i,i,i->i',x,x,x)\"\u001b[0m\u001b[0;34m)\u001b[0m\u001b[0;34m\u001b[0m\u001b[0;34m\u001b[0m\u001b[0m\n",
            "\u001b[0;32mmtrand.pyx\u001b[0m in \u001b[0;36mnumpy.random.mtrand.RandomState.rand\u001b[0;34m()\u001b[0m\n",
            "\u001b[0;32mmtrand.pyx\u001b[0m in \u001b[0;36mnumpy.random.mtrand.RandomState.random_sample\u001b[0;34m()\u001b[0m\n",
            "\u001b[0;32m_common.pyx\u001b[0m in \u001b[0;36mnumpy.random._common.double_fill\u001b[0;34m()\u001b[0m\n",
            "\u001b[0;31mTypeError\u001b[0m: 'float' object cannot be interpreted as an integer"
          ]
        }
      ],
      "source": [
        "x = np.random.rand(5e7)\n",
        "\n",
        "%timeit np.power(x,3)\n",
        "%timeit x*x*x\n",
        "%timeit np.einsum('i,i,i->i',x,x,x)"
      ]
    },
    {
      "cell_type": "markdown",
      "metadata": {
        "id": "Axy1HV3hndOe"
      },
      "source": [
        "#### 93. Consider two arrays A and B of shape (8,3) and (2,2). How to find rows of A that contain elements of each row of B regardless of the order of the elements in B? (★★★) \n",
        "(**hint**: np.where)"
      ]
    },
    {
      "cell_type": "code",
      "execution_count": null,
      "metadata": {
        "id": "qAXkWfj7ndOe",
        "colab": {
          "base_uri": "https://localhost:8080/"
        },
        "outputId": "cdfdaeb8-1d9a-470a-db01-fa9effa7275d"
      },
      "outputs": [
        {
          "output_type": "stream",
          "name": "stdout",
          "text": [
            "[0 1 2 3 7]\n"
          ]
        }
      ],
      "source": [
        "A = np.random.randint(0,5,(8,3))\n",
        "B = np.random.randint(0,5,(2,2))\n",
        "\n",
        "C = (A[..., np.newaxis, np.newaxis] == B)\n",
        "rows = np.where(C.any((3,1)).all(1))[0]\n",
        "print(rows)"
      ]
    },
    {
      "cell_type": "markdown",
      "metadata": {
        "id": "9GlM3BIQndOf"
      },
      "source": [
        "#### 94. Considering a 10x3 matrix, extract rows with unequal values (e.g. \\[2,2,3\\]) (★★★)"
      ]
    },
    {
      "cell_type": "code",
      "execution_count": null,
      "metadata": {
        "id": "uH8E7bHundOf",
        "colab": {
          "base_uri": "https://localhost:8080/"
        },
        "outputId": "23bb41d6-76d1-45d1-93df-1ace578dfb75"
      },
      "outputs": [
        {
          "output_type": "stream",
          "name": "stdout",
          "text": [
            "[[3 1 1]\n",
            " [3 2 2]\n",
            " [2 1 0]\n",
            " [1 3 3]\n",
            " [1 2 4]\n",
            " [2 2 0]\n",
            " [4 1 4]\n",
            " [4 4 3]\n",
            " [0 1 1]\n",
            " [3 4 4]]\n",
            "[[3 1 1]\n",
            " [3 2 2]\n",
            " [2 1 0]\n",
            " [1 3 3]\n",
            " [1 2 4]\n",
            " [2 2 0]\n",
            " [4 1 4]\n",
            " [4 4 3]\n",
            " [0 1 1]\n",
            " [3 4 4]]\n",
            "[[3 1 1]\n",
            " [3 2 2]\n",
            " [2 1 0]\n",
            " [1 3 3]\n",
            " [1 2 4]\n",
            " [2 2 0]\n",
            " [4 1 4]\n",
            " [4 4 3]\n",
            " [0 1 1]\n",
            " [3 4 4]]\n"
          ]
        }
      ],
      "source": [
        "Z = np.random.randint(0,5,(10,3))\n",
        "print(Z)\n",
        "\n",
        "E = np.all(Z[:,1:] == Z[:,:-1], axis=1)\n",
        "U = Z[~E]\n",
        "print(U)\n",
        "U = Z[Z.max(axis=1) != Z.min(axis=1),:]\n",
        "print(U)"
      ]
    },
    {
      "cell_type": "markdown",
      "metadata": {
        "id": "XJN-LYfGndOf"
      },
      "source": [
        "#### 95. Convert a vector of ints into a matrix binary representation (★★★) \n",
        "(**hint**: np.unpackbits)"
      ]
    },
    {
      "cell_type": "code",
      "execution_count": null,
      "metadata": {
        "id": "nfhh1RjIndOf",
        "colab": {
          "base_uri": "https://localhost:8080/"
        },
        "outputId": "5719ce34-61ac-495d-90f2-a69141572a2c"
      },
      "outputs": [
        {
          "output_type": "stream",
          "name": "stdout",
          "text": [
            "[[0 0 0 0 0 0 0 0]\n",
            " [0 0 0 0 0 0 0 1]\n",
            " [0 0 0 0 0 0 1 0]\n",
            " [0 0 0 0 0 0 1 1]\n",
            " [0 0 0 0 1 1 1 1]\n",
            " [0 0 0 1 0 0 0 0]\n",
            " [0 0 1 0 0 0 0 0]\n",
            " [0 1 0 0 0 0 0 0]\n",
            " [1 0 0 0 0 0 0 0]]\n"
          ]
        }
      ],
      "source": [
        "I = np.array([0, 1, 2, 3, 15, 16, 32, 64, 128], dtype=np.uint8)\n",
        "print(np.unpackbits(I[:, np.newaxis], axis=1))"
      ]
    },
    {
      "cell_type": "markdown",
      "metadata": {
        "id": "iFy8Vnu-ndOf"
      },
      "source": [
        "#### 96. Given a two dimensional array, how to extract unique rows? (★★★) \n",
        "(**hint**: np.ascontiguousarray)"
      ]
    },
    {
      "cell_type": "code",
      "execution_count": null,
      "metadata": {
        "id": "FLVkfRi4ndOg",
        "colab": {
          "base_uri": "https://localhost:8080/"
        },
        "outputId": "9c1d5bd0-2fd3-4fb9-a7a6-54f4537cc146"
      },
      "outputs": [
        {
          "output_type": "stream",
          "name": "stdout",
          "text": [
            "[[0 1 1]\n",
            " [1 2 4]\n",
            " [1 3 3]\n",
            " [2 1 0]\n",
            " [2 2 0]\n",
            " [3 1 1]\n",
            " [3 2 2]\n",
            " [3 4 4]\n",
            " [4 1 4]\n",
            " [4 4 3]]\n"
          ]
        }
      ],
      "source": [
        "uZ = np.unique(Z, axis=0)\n",
        "print(uZ)"
      ]
    },
    {
      "cell_type": "markdown",
      "metadata": {
        "id": "P8v0Emk-ndOg"
      },
      "source": [
        "#### 97. Considering 2 vectors A & B, write the einsum equivalent of inner, outer, sum, and mul function (★★★) \n",
        "(**hint**: np.einsum)"
      ]
    },
    {
      "cell_type": "code",
      "execution_count": null,
      "metadata": {
        "id": "c_405f5ZndOg",
        "colab": {
          "base_uri": "https://localhost:8080/"
        },
        "outputId": "d6dbdb16-3f15-4a0d-8030-bb4740f307a7"
      },
      "outputs": [
        {
          "output_type": "execute_result",
          "data": {
            "text/plain": [
              "array([[0.26662176, 0.55316498, 0.36212931, 0.2728939 , 0.5707573 ,\n",
              "        0.17043181, 0.52142969, 0.3647299 , 0.30240565, 0.3253404 ],\n",
              "       [0.02993744, 0.06211175, 0.04066144, 0.0306417 , 0.06408709,\n",
              "        0.01913682, 0.05854838, 0.04095345, 0.03395541, 0.03653062],\n",
              "       [0.29158144, 0.60494928, 0.39602988, 0.29844074, 0.6241885 ,\n",
              "        0.18638671, 0.57024311, 0.39887393, 0.33071523, 0.355797  ],\n",
              "       [0.40745727, 0.84535898, 0.55341402, 0.4170425 , 0.87224395,\n",
              "        0.26045767, 0.79686041, 0.55738831, 0.46214302, 0.4971924 ],\n",
              "       [0.11252093, 0.23344921, 0.15282746, 0.11516793, 0.2408736 ,\n",
              "        0.07192641, 0.22005614, 0.15392498, 0.12762261, 0.13730164],\n",
              "       [0.33055531, 0.68580908, 0.44896473, 0.33833146, 0.70761989,\n",
              "        0.21129986, 0.64646395, 0.45218892, 0.37491987, 0.40335417],\n",
              "       [0.43213358, 0.89655536, 0.58692972, 0.44229931, 0.92506854,\n",
              "        0.27623143, 0.84511964, 0.5911447 , 0.49013119, 0.52730323],\n",
              "       [0.30079448, 0.62406374, 0.40854316, 0.30787051, 0.64391086,\n",
              "        0.19227593, 0.58826096, 0.41147707, 0.34116477, 0.36703904],\n",
              "       [0.34013489, 0.705684  , 0.46197584, 0.34813639, 0.7281269 ,\n",
              "        0.21742339, 0.66519864, 0.46529348, 0.38578514, 0.41504348],\n",
              "       [0.16791531, 0.34837693, 0.22806486, 0.17186543, 0.35945637,\n",
              "        0.10733599, 0.32839041, 0.22970269, 0.19045159, 0.20489563]])"
            ]
          },
          "metadata": {},
          "execution_count": 131
        }
      ],
      "source": [
        "A = np.random.uniform(0,1,10)\n",
        "B = np.random.uniform(0,1,10)\n",
        "\n",
        "np.einsum('i->', A)       \n",
        "np.einsum('i,i->i', A, B) \n",
        "np.einsum('i,i', A, B)    \n",
        "np.einsum('i,j->ij', A, B) "
      ]
    },
    {
      "cell_type": "markdown",
      "metadata": {
        "id": "GJRMrcfyndOg"
      },
      "source": [
        "#### 98. Considering a path described by two vectors (X,Y), how to sample it using equidistant samples (★★★)? \n",
        "(**hint**: np.cumsum, np.interp)"
      ]
    },
    {
      "cell_type": "code",
      "execution_count": null,
      "metadata": {
        "collapsed": true,
        "id": "UtCi5d_PndOg"
      },
      "outputs": [],
      "source": [
        "phi = np.arange(0, 10*np.pi, 0.1)\n",
        "a = 1\n",
        "x = a*phi*np.cos(phi)\n",
        "y = a*phi*np.sin(phi)\n",
        "\n",
        "dr = (np.diff(x)**2 + np.diff(y)**2)**.5 # segment lengths\n",
        "r = np.zeros_like(x)\n",
        "r[1:] = np.cumsum(dr)                # integrate path\n",
        "r_int = np.linspace(0, r.max(), 200) # regular spaced path\n",
        "x_int = np.interp(r_int, r, x)       # integrate path\n",
        "y_int = np.interp(r_int, r, y)"
      ]
    },
    {
      "cell_type": "markdown",
      "metadata": {
        "id": "_0LluoRqndOg"
      },
      "source": [
        "#### 99. Given an integer n and a 2D array X, select from X the rows which can be interpreted as draws from a multinomial distribution with n degrees, i.e., the rows which only contain integers and which sum to n. (★★★) \n",
        "(**hint**: np.logical\\_and.reduce, np.mod)"
      ]
    },
    {
      "cell_type": "code",
      "execution_count": null,
      "metadata": {
        "id": "FEhAWJCvndOh",
        "colab": {
          "base_uri": "https://localhost:8080/"
        },
        "outputId": "8337d12c-7c0e-48bf-904d-b63dd39f38d0"
      },
      "outputs": [
        {
          "output_type": "stream",
          "name": "stdout",
          "text": [
            "[[2. 0. 1. 1.]]\n"
          ]
        }
      ],
      "source": [
        "X = np.asarray([[1.0, 0.0, 3.0, 8.0],\n",
        "                [2.0, 0.0, 1.0, 1.0],\n",
        "                [1.5, 2.5, 1.0, 0.0]])\n",
        "n = 4\n",
        "M = np.logical_and.reduce(np.mod(X, 1) == 0, axis=-1)\n",
        "M &= (X.sum(axis=-1) == n)\n",
        "print(X[M])"
      ]
    },
    {
      "cell_type": "markdown",
      "metadata": {
        "id": "ALJjCbCqndOh"
      },
      "source": [
        "#### 100. Compute bootstrapped 95% confidence intervals for the mean of a 1D array X (i.e., resample the elements of an array with replacement N times, compute the mean of each sample, and then compute percentiles over the means). (★★★) \n",
        "(**hint**: np.percentile)"
      ]
    },
    {
      "cell_type": "code",
      "execution_count": null,
      "metadata": {
        "id": "4c5cseirndOh",
        "colab": {
          "base_uri": "https://localhost:8080/"
        },
        "outputId": "40d534da-61cb-4cc2-f654-bf700484e6ef"
      },
      "outputs": [
        {
          "output_type": "stream",
          "name": "stdout",
          "text": [
            "[-0.1475959   0.27937419]\n"
          ]
        }
      ],
      "source": [
        "X = np.random.randn(100) # random 1D array\n",
        "N = 1000 # number of bootstrap samples\n",
        "idx = np.random.randint(0, X.size, (N, X.size))\n",
        "means = X[idx].mean(axis=1)\n",
        "confint = np.percentile(means, [2.5, 97.5])\n",
        "print(confint)"
      ]
    }
  ],
  "metadata": {
    "kernelspec": {
      "display_name": "Python 3",
      "language": "python",
      "name": "python3"
    },
    "language_info": {
      "codemirror_mode": {
        "name": "ipython",
        "version": 3
      },
      "file_extension": ".py",
      "mimetype": "text/x-python",
      "name": "python",
      "nbconvert_exporter": "python",
      "pygments_lexer": "ipython3",
      "version": "3.8.3"
    },
    "colab": {
      "provenance": [],
      "include_colab_link": true
    }
  },
  "nbformat": 4,
  "nbformat_minor": 0
}